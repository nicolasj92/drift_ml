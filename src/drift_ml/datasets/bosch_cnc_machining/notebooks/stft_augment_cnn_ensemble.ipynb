{
 "cells": [
  {
   "cell_type": "code",
   "execution_count": 3,
   "metadata": {},
   "outputs": [
    {
     "name": "stdout",
     "output_type": "stream",
     "text": [
      "The autoreload extension is already loaded. To reload it, use:\n",
      "  %reload_ext autoreload\n"
     ]
    }
   ],
   "source": [
    "%load_ext autoreload\n",
    "%autoreload 2"
   ]
  },
  {
   "cell_type": "code",
   "execution_count": 4,
   "metadata": {},
   "outputs": [],
   "source": [
    "import h5py\n",
    "import numpy as np\n",
    "import matplotlib.pyplot as plt\n",
    "from scipy.special import entr\n",
    "from drift_ml.datasets.bosch_cnc_machining.utils.utils import augment_xyz_samples\n",
    "from drift_ml.datasets.bosch_cnc_machining.utils.dataloader import RawBoschCNCDataloader, STFTBoschCNCDataloader, NPYBoschCNCDataLoader"
   ]
  },
  {
   "cell_type": "code",
   "execution_count": 5,
   "metadata": {},
   "outputs": [],
   "source": [
    "base_loader = NPYBoschCNCDataLoader(metadata_path=\"/home/tbiegel/nico_files/drift_ml/src/drift_ml/datasets/bosch_cnc_machining/extracted_features/metadata_ws4096.pkl\")\n",
    "base_loader.load_data(\n",
    "    sample_data_x_path=\"/home/tbiegel/nico_files/drift_ml/src/drift_ml/datasets/bosch_cnc_machining/extracted_features/npy/sample_data_x_raw_ws4096.npy\",\n",
    "    sample_data_y_path=\"/home/tbiegel/nico_files/drift_ml/src/drift_ml/datasets/bosch_cnc_machining/extracted_features/npy/sample_data_y_raw_ws4096.npy\"\n",
    "    )\n",
    "base_loader.generate_datasets_by_size(train_size=.5,val_size=.1,test_size=.4)"
   ]
  },
  {
   "cell_type": "code",
   "execution_count": 6,
   "metadata": {},
   "outputs": [
    {
     "data": {
      "application/vnd.jupyter.widget-view+json": {
       "model_id": "2af0744490b941819d43105e6ebd0d8d",
       "version_major": 2,
       "version_minor": 0
      },
      "text/plain": [
       "  0%|          | 0/42978 [00:00<?, ?it/s]"
      ]
     },
     "metadata": {},
     "output_type": "display_data"
    }
   ],
   "source": [
    "stft_base_loader = base_loader.get_windowed_samples_as_stft_dataloader(transform_fn=lambda x: x)\n",
    "channel_means = np.mean(stft_base_loader.X_train, axis=(0, 2, 3), keepdims=True)\n",
    "channel_stds = np.std(stft_base_loader.X_train, axis=(0, 2, 3), keepdims=True)\n",
    "\n",
    "X_train_scaled = (stft_base_loader.X_train - channel_means) / channel_stds\n",
    "X_val_scaled = (stft_base_loader.X_val - channel_means) / channel_stds\n",
    "X_test_scaled = (stft_base_loader.X_test - channel_means) / channel_stds"
   ]
  },
  {
   "cell_type": "code",
   "execution_count": 17,
   "metadata": {},
   "outputs": [],
   "source": [
    "from torch import tensor\n",
    "from torchmetrics.classification import (\n",
    "    BinaryAUROC,\n",
    "    BinaryF1Score,\n",
    "    BinaryAveragePrecision)\n",
    "from drift_ml.datasets.bosch_cnc_machining.models.nnclassifier import NNEnsembleClassifier\n",
    "\n",
    "ensemble = NNEnsembleClassifier()"
   ]
  },
  {
   "cell_type": "code",
   "execution_count": null,
   "metadata": {},
   "outputs": [],
   "source": [
    "ensemble.fit(\n",
    "    fit_args=[\n",
    "        X_train_scaled, \n",
    "        stft_base_loader.y_train[:, np.newaxis], \n",
    "        X_val_scaled, \n",
    "        stft_base_loader.y_val[:, np.newaxis]\n",
    "    ],\n",
    "    fit_kwargs={\n",
    "        \"lrate\":1e-2,\n",
    "        \"epochs\":50\n",
    "    }\n",
    ")"
   ]
  },
  {
   "cell_type": "code",
   "execution_count": 19,
   "metadata": {},
   "outputs": [
    {
     "name": "stdout",
     "output_type": "stream",
     "text": [
      "(5, 17269, 1)\n",
      "Test AUROC: 0.649, AUPRC: 0.125, F1: 0.157\n"
     ]
    }
   ],
   "source": [
    "auroc = BinaryAUROC()\n",
    "auprc = BinaryAveragePrecision()\n",
    "f1 = BinaryF1Score(threshold=0.5)\n",
    "\n",
    "y, y_scores = ensemble.predict(X_test_scaled, return_scores=True)\n",
    "y_scores = tensor(y_scores)\n",
    "y_test = tensor(stft_base_loader.y_test[:, np.newaxis])\n",
    "\n",
    "auroc_score = auroc(y_scores, y_test)\n",
    "auprc_score = auprc(y_scores, y_test)\n",
    "f1_score = f1(y_scores, y_test)\n",
    "\n",
    "print(f\"Test AUROC: {auroc_score:.3f}, AUPRC: {auprc_score:.3f}, F1: {f1_score:.3f}\")"
   ]
  },
  {
   "cell_type": "code",
   "execution_count": null,
   "metadata": {},
   "outputs": [],
   "source": [
    "shifts = np.arange(0, 100, 10)\n",
    "f1_scores = []\n",
    "auroc_scores = []\n",
    "auprc_scores = []\n",
    "avg_entropies = []\n",
    "\n",
    "for shift in shifts:\n",
    "    print(f\"Evaluating {shift} degrees pitch shift\")\n",
    "    stft_loader = base_loader.get_windowed_samples_as_stft_dataloader(\n",
    "        transform_fn=lambda x: augment_xyz_samples(x, pitch_deg=shift, yaw_deg=shift)\n",
    "    )\n",
    "    X_test_scaled = (stft_loader.X_test - channel_means) / channel_stds\n",
    "\n",
    "    y, y_scores = ensemble.predict(X_test_scaled, return_scores=True)\n",
    "    y_scores = tensor(y_scores)\n",
    "    y_test = tensor(stft_loader.y_test[:, np.newaxis])\n",
    "\n",
    "    auroc_score = auroc(y_scores, y_test)\n",
    "    auprc_score = auprc(y_scores, y_test)\n",
    "    f1_score = f1(y_scores, y_test)\n",
    "\n",
    "    auroc_scores.append(auroc_scores)\n",
    "    auprc_scores.append(auprc_score)\n",
    "    f1_scores.append(f1_score)\n",
    "\n",
    "    avg_entropy = np.mean(entr(y_scores.numpy()))\n",
    "    avg_entropies.append(avg_entropy)\n",
    "\n",
    "    print(f\"Test AUROC: {auroc_score:.3f}, AUPRC: {auprc_score:.3f}, F1: {f1_score:.3f}, Average Entropy: {avg_entropy:.4f}\")"
   ]
  }
 ],
 "metadata": {
  "kernelspec": {
   "display_name": "base",
   "language": "python",
   "name": "python3"
  },
  "language_info": {
   "codemirror_mode": {
    "name": "ipython",
    "version": 3
   },
   "file_extension": ".py",
   "mimetype": "text/x-python",
   "name": "python",
   "nbconvert_exporter": "python",
   "pygments_lexer": "ipython3",
   "version": "3.9.12"
  },
  "orig_nbformat": 4,
  "vscode": {
   "interpreter": {
    "hash": "4c52cee0ff20d7e84ea37bffd07e43c304debdae63fb6905a853edb9ff256302"
   }
  }
 },
 "nbformat": 4,
 "nbformat_minor": 2
}
