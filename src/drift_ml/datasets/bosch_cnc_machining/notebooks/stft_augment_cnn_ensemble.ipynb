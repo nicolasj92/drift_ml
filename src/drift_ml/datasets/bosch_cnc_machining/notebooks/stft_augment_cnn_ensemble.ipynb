{
 "cells": [
  {
   "cell_type": "code",
   "execution_count": 1,
   "metadata": {},
   "outputs": [],
   "source": [
    "%load_ext autoreload\n",
    "%autoreload 2"
   ]
  },
  {
   "cell_type": "code",
   "execution_count": 2,
   "metadata": {},
   "outputs": [],
   "source": [
    "import h5py\n",
    "from pprint import pprint\n",
    "import numpy as np\n",
    "import matplotlib.pyplot as plt\n",
    "from scipy.special import entr\n",
    "from drift_ml.datasets.bosch_cnc_machining.utils.utils import augment_xyz_samples\n",
    "from drift_ml.datasets.bosch_cnc_machining.utils.dataloader import RawBoschCNCDataloader, STFTBoschCNCDataloader, NPYBoschCNCDataLoader, DriftDataLoader, Standardizer"
   ]
  },
  {
   "cell_type": "code",
   "execution_count": 3,
   "metadata": {},
   "outputs": [],
   "source": [
    "base_loader = NPYBoschCNCDataLoader(metadata_path=\"/home/tbiegel/nico_files/drift_ml/src/drift_ml/datasets/bosch_cnc_machining/extracted_features/metadata_ws4096.pkl\")\n",
    "base_loader.load_data(\n",
    "    sample_data_x_path=\"/home/tbiegel/nico_files/drift_ml/src/drift_ml/datasets/bosch_cnc_machining/extracted_features/npy/sample_data_x_raw_ws4096.npy\",\n",
    "    sample_data_y_path=\"/home/tbiegel/nico_files/drift_ml/src/drift_ml/datasets/bosch_cnc_machining/extracted_features/npy/sample_data_y_raw_ws4096.npy\"\n",
    "    )"
   ]
  },
  {
   "cell_type": "code",
   "execution_count": 10,
   "metadata": {},
   "outputs": [],
   "source": [
    "sudden_config = {\n",
    "    \"base_config\": {\n",
    "        \"train_size\": 0.3,\n",
    "        \"val_size\": 0.2,\n",
    "        \"test_size\": 0.5,\n",
    "        \"machines\": None,\n",
    "        \"processes\": None,\n",
    "        \"periods\": None,\n",
    "    },\n",
    "    \"drift_config\": [\n",
    "        {\n",
    "            \"length\": 10000,\n",
    "            \"type\": \"constant\",\n",
    "            \"only_test\": False,\n",
    "            \"machines\": None,\n",
    "            \"processes\": None,\n",
    "            \"periods\": [\"Feb_2019\", \"Aug_2019\"],\n",
    "            \"transform_fn\": None,\n",
    "        },\n",
    "        {\n",
    "            \"length\": 10000,\n",
    "            \"type\": \"constant\",\n",
    "            \"only_test\": False,\n",
    "            \"machines\": None,\n",
    "            \"processes\": None,\n",
    "            \"periods\": None,\n",
    "            \"transform_fn\": lambda x: augment_xyz_samples(x, pitch_deg=30),\n",
    "        },\n",
    "    ],\n",
    "}"
   ]
  },
  {
   "cell_type": "code",
   "execution_count": 11,
   "metadata": {},
   "outputs": [
    {
     "data": {
      "application/vnd.jupyter.widget-view+json": {
       "model_id": "80c0b3923f22496a824cc02c7a233842",
       "version_major": 2,
       "version_minor": 0
      },
      "text/plain": [
       "  0%|          | 0/12530 [00:00<?, ?it/s]"
      ]
     },
     "metadata": {},
     "output_type": "display_data"
    },
    {
     "data": {
      "application/vnd.jupyter.widget-view+json": {
       "model_id": "234a64dd3ecd43ddaa80ac348aa625f8",
       "version_major": 2,
       "version_minor": 0
      },
      "text/plain": [
       "  0%|          | 0/8726 [00:00<?, ?it/s]"
      ]
     },
     "metadata": {},
     "output_type": "display_data"
    },
    {
     "data": {
      "application/vnd.jupyter.widget-view+json": {
       "model_id": "1c516cc34a564b298aaffe8ceedd789f",
       "version_major": 2,
       "version_minor": 0
      },
      "text/plain": [
       "  0%|          | 0/21722 [00:00<?, ?it/s]"
      ]
     },
     "metadata": {},
     "output_type": "display_data"
    }
   ],
   "source": [
    "drift_dataloader = DriftDataLoader(baseloader=base_loader, config=sudden_config)\n",
    "X_train_raw, y_train = drift_dataloader.access_base_samples_stft(dataset=\"train\")\n",
    "X_val_raw, y_val = drift_dataloader.access_base_samples_stft(dataset=\"val\")\n",
    "X_test_raw, y_test = drift_dataloader.access_base_samples_stft(dataset=\"test\")"
   ]
  },
  {
   "cell_type": "code",
   "execution_count": 12,
   "metadata": {},
   "outputs": [],
   "source": [
    "standardizer = Standardizer()\n",
    "X_train = standardizer.fit_transform(X_train_raw)\n",
    "X_val = standardizer.fit_transform(X_val_raw)\n",
    "X_test = standardizer.transform(X_test_raw)"
   ]
  },
  {
   "cell_type": "code",
   "execution_count": 14,
   "metadata": {},
   "outputs": [],
   "source": [
    "from torch import tensor\n",
    "from drift_ml.datasets.bosch_cnc_machining.utils.evaluation import Metrics\n",
    "from drift_ml.datasets.bosch_cnc_machining.models.nnclassifier import NNEnsembleClassifier\n",
    "\n",
    "metric_calculator = Metrics()\n",
    "ensemble = NNEnsembleClassifier(n_ensemble=5)"
   ]
  },
  {
   "cell_type": "code",
   "execution_count": 16,
   "metadata": {},
   "outputs": [
    {
     "name": "stderr",
     "output_type": "stream",
     "text": [
      "/home/tbiegel/nico_files/drift_ml/src/drift_ml/datasets/bosch_cnc_machining/models/nnclassifier.py:47: UserWarning: To copy construct from a tensor, it is recommended to use sourceTensor.clone().detach() or sourceTensor.clone().detach().requires_grad_(True), rather than torch.tensor(sourceTensor).\n",
      "  tensor(X).to(self.device).float(),\n",
      "/home/tbiegel/nico_files/drift_ml/src/drift_ml/datasets/bosch_cnc_machining/models/nnclassifier.py:47: UserWarning: To copy construct from a tensor, it is recommended to use sourceTensor.clone().detach() or sourceTensor.clone().detach().requires_grad_(True), rather than torch.tensor(sourceTensor).\n",
      "  tensor(X).to(self.device).float(),\n",
      "DEBUG:root:Final val. performance: AUROC 0.97, AURPC 0.92, F1 0.89\n",
      "DEBUG:root:Final val. performance: AUROC 0.97, AURPC 0.94, F1 0.93\n",
      "DEBUG:root:Final val. performance: AUROC 0.99, AURPC 0.94, F1 0.91\n",
      "DEBUG:root:Final val. performance: AUROC 0.96, AURPC 0.87, F1 0.87\n"
     ]
    }
   ],
   "source": [
    "ensemble.fit(\n",
    "    fit_args=[\n",
    "        X_train, \n",
    "        y_train[:, np.newaxis], \n",
    "        X_val, \n",
    "        y_val[:, np.newaxis]\n",
    "    ],\n",
    "    fit_kwargs={\n",
    "        \"lrate\": 1e-2,\n",
    "        \"epochs\": 20\n",
    "    }\n",
    ")"
   ]
  },
  {
   "cell_type": "code",
   "execution_count": 71,
   "metadata": {},
   "outputs": [
    {
     "name": "stdout",
     "output_type": "stream",
     "text": [
      "   BinaryAUROC  BinaryAveragePrecision  BinaryF1Score  BinaryMatthewsCorrCoef\n",
      "0      0.90538                0.821183       0.842105                0.844149\n"
     ]
    }
   ],
   "source": [
    "y_base, y_base_scores = ensemble.predict(X_test_base, return_scores=True)\n",
    "\n",
    "base_entropies = entr(y_base_scores)\n",
    "metric_calculator.print(y_base_scores, stft_base_loader.y_test[:, np.newaxis])"
   ]
  },
  {
   "cell_type": "code",
   "execution_count": 66,
   "metadata": {},
   "outputs": [
    {
     "name": "stdout",
     "output_type": "stream",
     "text": [
      "Evaluating 40 degrees pitch shift\n"
     ]
    },
    {
     "data": {
      "application/vnd.jupyter.widget-view+json": {
       "model_id": "bcb373fef22047cebb7c7967cd6a0379",
       "version_major": 2,
       "version_minor": 0
      },
      "text/plain": [
       "  0%|          | 0/42978 [00:00<?, ?it/s]"
      ]
     },
     "metadata": {},
     "output_type": "display_data"
    }
   ],
   "source": [
    "shift = 40\n",
    "\n",
    "print(f\"Evaluating {shift} degrees pitch shift\")\n",
    "stft_loader = base_loader.get_windowed_samples_as_stft_dataloader(\n",
    "    transform_fn=lambda x: augment_xyz_samples(x, pitch_deg=shift, yaw_deg=shift)\n",
    ")\n",
    "X_test_shift = stft_base_loader.standardize_datasets([stft_loader.X_test])[0]"
   ]
  },
  {
   "cell_type": "code",
   "execution_count": 73,
   "metadata": {},
   "outputs": [
    {
     "name": "stdout",
     "output_type": "stream",
     "text": [
      "   BinaryAUROC  BinaryAveragePrecision  BinaryF1Score  BinaryMatthewsCorrCoef\n",
      "0     0.900785                0.705589       0.594093                0.583093\n"
     ]
    }
   ],
   "source": [
    "y_shift, y_shift_scores = ensemble.predict(X_test_shift, return_scores=True)\n",
    "\n",
    "shift_entropies = entr(y_shift_scores)\n",
    "avg_entropy = np.mean(shift_entropies)\n",
    "\n",
    "metric_calculator.print(y_shift_scores, stft_loader.y_test[:, np.newaxis])"
   ]
  },
  {
   "cell_type": "code",
   "execution_count": 77,
   "metadata": {},
   "outputs": [
    {
     "data": {
      "image/png": "[encoded data removed]",
      "text/plain": [
       "<Figure size 432x288 with 1 Axes>"
      ]
     },
     "metadata": {
      "needs_background": "light"
     },
     "output_type": "display_data"
    }
   ],
   "source": [
    "plt.hist(base_entropies[stft_base_loader.y_test[:, np.newaxis] == y_base], log=True, density=True, bins=500)\n",
    "plt.hist(base_entropies[stft_base_loader.y_test[:, np.newaxis] != y_base], log=True, density=True, bins=500, alpha=0.5)\n",
    "plt.show()"
   ]
  },
  {
   "cell_type": "code",
   "execution_count": 78,
   "metadata": {},
   "outputs": [
    {
     "data": {
      "image/png": "[encoded data removed]",
      "text/plain": [
       "<Figure size 432x288 with 1 Axes>"
      ]
     },
     "metadata": {
      "needs_background": "light"
     },
     "output_type": "display_data"
    }
   ],
   "source": [
    "plt.hist(shift_entropies[stft_loader.y_test[:, np.newaxis] == y_shift], log=True, density=True, bins=500)\n",
    "plt.hist(shift_entropies[stft_loader.y_test[:, np.newaxis] != y_shift], log=True, density=True, bins=500, alpha=0.5)\n",
    "plt.show()"
   ]
  },
  {
   "cell_type": "code",
   "execution_count": 98,
   "metadata": {},
   "outputs": [
    {
     "data": {
      "image/png": "[encoded data removed]",
      "text/plain": [
       "<Figure size 432x288 with 1 Axes>"
      ]
     },
     "metadata": {
      "needs_background": "light"
     },
     "output_type": "display_data"
    }
   ],
   "source": [
    "plt.hist(base_entropies, log=True, density=True, bins=100)\n",
    "plt.hist(shift_entropies, log=True, density=True, bins=100, alpha=0.6)\n",
    "plt.show()"
   ]
  },
  {
   "cell_type": "code",
   "execution_count": 83,
   "metadata": {},
   "outputs": [],
   "source": [
    "import seaborn as sns"
   ]
  },
  {
   "cell_type": "code",
   "execution_count": null,
   "metadata": {},
   "outputs": [],
   "source": []
  }
 ],
 "metadata": {
  "kernelspec": {
   "display_name": "base",
   "language": "python",
   "name": "python3"
  },
  "language_info": {
   "codemirror_mode": {
    "name": "ipython",
    "version": 3
   },
   "file_extension": ".py",
   "mimetype": "text/x-python",
   "name": "python",
   "nbconvert_exporter": "python",
   "pygments_lexer": "ipython3",
   "version": "3.9.12"
  },
  "orig_nbformat": 4,
  "vscode": {
   "interpreter": {
    "hash": "4c52cee0ff20d7e84ea37bffd07e43c304debdae63fb6905a853edb9ff256302"
   }
  }
 },
 "nbformat": 4,
 "nbformat_minor": 2
}
