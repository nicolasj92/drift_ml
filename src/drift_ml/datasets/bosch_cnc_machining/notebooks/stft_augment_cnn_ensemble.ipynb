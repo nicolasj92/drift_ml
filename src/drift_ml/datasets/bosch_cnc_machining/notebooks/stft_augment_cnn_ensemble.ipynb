{
 "cells": [
  {
   "cell_type": "code",
   "execution_count": 1,
   "metadata": {},
   "outputs": [],
   "source": [
    "%load_ext autoreload\n",
    "%autoreload 2"
   ]
  },
  {
   "cell_type": "code",
   "execution_count": 43,
   "metadata": {},
   "outputs": [],
   "source": [
    "import h5py\n",
    "from pprint import pprint\n",
    "import numpy as np\n",
    "import matplotlib.pyplot as plt\n",
    "from scipy.special import entr\n",
    "from drift_ml.datasets.bosch_cnc_machining.utils.utils import augment_xyz_samples\n",
    "from drift_ml.datasets.bosch_cnc_machining.utils.dataloader import RawBoschCNCDataloader, STFTBoschCNCDataloader, NPYBoschCNCDataLoader"
   ]
  },
  {
   "cell_type": "code",
   "execution_count": 30,
   "metadata": {},
   "outputs": [],
   "source": [
    "base_loader = NPYBoschCNCDataLoader(metadata_path=\"/home/tbiegel/nico_files/drift_ml/src/drift_ml/datasets/bosch_cnc_machining/extracted_features/metadata_ws4096.pkl\")\n",
    "base_loader.load_data(\n",
    "    sample_data_x_path=\"/home/tbiegel/nico_files/drift_ml/src/drift_ml/datasets/bosch_cnc_machining/extracted_features/npy/sample_data_x_raw_ws4096.npy\",\n",
    "    sample_data_y_path=\"/home/tbiegel/nico_files/drift_ml/src/drift_ml/datasets/bosch_cnc_machining/extracted_features/npy/sample_data_y_raw_ws4096.npy\"\n",
    "    )\n",
    "base_loader.generate_datasets_by_size(train_size=.4,val_size=.2,test_size=.4)"
   ]
  },
  {
   "cell_type": "code",
   "execution_count": 31,
   "metadata": {},
   "outputs": [
    {
     "data": {
      "application/vnd.jupyter.widget-view+json": {
       "model_id": "b0225e5f69b94a2484c9143bf760754d",
       "version_major": 2,
       "version_minor": 0
      },
      "text/plain": [
       "  0%|          | 0/42978 [00:00<?, ?it/s]"
      ]
     },
     "metadata": {},
     "output_type": "display_data"
    }
   ],
   "source": [
    "stft_base_loader = base_loader.get_windowed_samples_as_stft_dataloader(transform_fn=lambda x: x)\n",
    "X_train_base, X_val_base, X_test_base = stft_base_loader.get_standardized_train_val_test()"
   ]
  },
  {
   "cell_type": "code",
   "execution_count": 62,
   "metadata": {},
   "outputs": [],
   "source": [
    "from torch import tensor\n",
    "from drift_ml.datasets.bosch_cnc_machining.utils.evaluation import Metrics\n",
    "from drift_ml.datasets.bosch_cnc_machining.models.nnclassifier import NNEnsembleClassifier\n",
    "\n",
    "metric_calculator = Metrics()\n",
    "ensemble = NNEnsembleClassifier(n_ensemble=5)"
   ]
  },
  {
   "cell_type": "code",
   "execution_count": 6,
   "metadata": {},
   "outputs": [
    {
     "name": "stderr",
     "output_type": "stream",
     "text": [
      "/home/tbiegel/nico_files/drift_ml/src/drift_ml/datasets/bosch_cnc_machining/models/nnclassifier.py:47: UserWarning: To copy construct from a tensor, it is recommended to use sourceTensor.clone().detach() or sourceTensor.clone().detach().requires_grad_(True), rather than torch.tensor(sourceTensor).\n",
      "  tensor(X).to(self.device).float(),\n",
      "/home/tbiegel/nico_files/drift_ml/src/drift_ml/datasets/bosch_cnc_machining/models/nnclassifier.py:47: UserWarning: To copy construct from a tensor, it is recommended to use sourceTensor.clone().detach() or sourceTensor.clone().detach().requires_grad_(True), rather than torch.tensor(sourceTensor).\n",
      "  tensor(X).to(self.device).float(),\n",
      "DEBUG:root:Final val. performance: AUROC 0.97, AURPC 0.95, F1 0.92\n",
      "DEBUG:root:Final val. performance: AUROC 0.96, AURPC 0.85, F1 0.81\n",
      "DEBUG:root:Final val. performance: AUROC 0.97, AURPC 0.94, F1 0.90\n",
      "DEBUG:root:Final val. performance: AUROC 0.98, AURPC 0.96, F1 0.93\n",
      "DEBUG:root:Final val. performance: AUROC 0.94, AURPC 0.86, F1 0.85\n"
     ]
    }
   ],
   "source": [
    "ensemble.fit(\n",
    "    fit_args=[\n",
    "        X_train_base, \n",
    "        stft_base_loader.y_train[:, np.newaxis], \n",
    "        X_val_base, \n",
    "        stft_base_loader.y_val[:, np.newaxis]\n",
    "    ],\n",
    "    fit_kwargs={\n",
    "        \"lrate\": 1e-2,\n",
    "        \"epochs\": 20\n",
    "    }\n",
    ")"
   ]
  },
  {
   "cell_type": "code",
   "execution_count": 60,
   "metadata": {},
   "outputs": [
    {
     "name": "stdout",
     "output_type": "stream",
     "text": [
      "   BinaryAUROC  BinaryAveragePrecision  BinaryF1Score  BinaryMatthewsCorrCoef\n",
      "0      0.90591                0.833986       0.859228                0.860729\n"
     ]
    }
   ],
   "source": [
    "y_base_scores = ensemble.predict_proba(X_test_base)\n",
    "\n",
    "base_entropies = entr(y_base_scores)\n",
    "metric_calculator.print(y_base_scores, stft_base_loader.y_test[:, np.newaxis])"
   ]
  },
  {
   "cell_type": "code",
   "execution_count": null,
   "metadata": {},
   "outputs": [],
   "source": [
    "shift = 40\n",
    "\n",
    "print(f\"Evaluating {shift} degrees pitch shift\")\n",
    "stft_loader = base_loader.get_windowed_samples_as_stft_dataloader(\n",
    "    transform_fn=lambda x: augment_xyz_samples(x, pitch_deg=shift, yaw_deg=shift)\n",
    ")\n",
    "X_test_scaled = stft_base_loader.standardize_datasets([stft_loader.X_test])[0]"
   ]
  },
  {
   "cell_type": "code",
   "execution_count": 63,
   "metadata": {},
   "outputs": [
    {
     "name": "stdout",
     "output_type": "stream",
     "text": [
      "   BinaryAUROC  BinaryAveragePrecision  BinaryF1Score  BinaryMatthewsCorrCoef\n",
      "0     0.754016                0.252417       0.054845                0.165389\n"
     ]
    }
   ],
   "source": [
    "y_shift_scores = ensemble.predict_proba(X_test_base)\n",
    "\n",
    "shift_entropies = entr(y_shift_scores)\n",
    "avg_entropy = np.mean(shift_entropies)\n",
    "\n",
    "metric_calculator.print(y_shift_scores, stft_loader.y_test[:, np.newaxis])"
   ]
  }
 ],
 "metadata": {
  "kernelspec": {
   "display_name": "base",
   "language": "python",
   "name": "python3"
  },
  "language_info": {
   "codemirror_mode": {
    "name": "ipython",
    "version": 3
   },
   "file_extension": ".py",
   "mimetype": "text/x-python",
   "name": "python",
   "nbconvert_exporter": "python",
   "pygments_lexer": "ipython3",
   "version": "3.9.12"
  },
  "orig_nbformat": 4,
  "vscode": {
   "interpreter": {
    "hash": "4c52cee0ff20d7e84ea37bffd07e43c304debdae63fb6905a853edb9ff256302"
   }
  }
 },
 "nbformat": 4,
 "nbformat_minor": 2
}
