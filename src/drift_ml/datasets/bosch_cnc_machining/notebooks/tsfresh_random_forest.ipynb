{
 "cells": [
  {
   "cell_type": "code",
   "execution_count": 1,
   "metadata": {},
   "outputs": [],
   "source": [
    "%load_ext autoreload\n",
    "%autoreload 2"
   ]
  },
  {
   "cell_type": "code",
   "execution_count": 34,
   "metadata": {},
   "outputs": [],
   "source": [
    "import pandas as pd\n",
    "from drift_ml.datasets.bosch_cnc_machining.utils.dataloader import TSFreshBoschCNCDataloader"
   ]
  },
  {
   "cell_type": "code",
   "execution_count": 10,
   "metadata": {},
   "outputs": [],
   "source": [
    "loader = TSFreshBoschCNCDataloader(\n",
    "    metadata_path=\"/home/nicolasj92/projects/drift_ml/src/drift_ml/datasets/bosch_cnc_machining/extracted_features/metadata_ws4096.pkl\"\n",
    ")\n",
    "loader.load_metadata()\n",
    "loader.load_data(\"/home/nicolasj92/projects/drift_ml/src/drift_ml/datasets/bosch_cnc_machining/extracted_features/all_features.pkl\", \n",
    "\"/home/nicolasj92/projects/drift_ml/src/drift_ml/datasets/bosch_cnc_machining/extracted_features/sample_data_y_raw_ws4096.npy\")"
   ]
  },
  {
   "cell_type": "code",
   "execution_count": 72,
   "metadata": {},
   "outputs": [
    {
     "data": {
      "image/png": "[encoded data removed]",
      "text/plain": [
       "<Figure size 1080x288 with 6 Axes>"
      ]
     },
     "metadata": {
      "needs_background": "light"
     },
     "output_type": "display_data"
    }
   ],
   "source": [
    "loader.generate_datasets_by_filter(\n",
    "    processes=[\"OP07\"],\n",
    "    train_periods=[\"Feb_2019\", \"Aug_2019\"],\n",
    "    train_val_split=0.7\n",
    "    )\n",
    "loader.plot_stats()"
   ]
  },
  {
   "cell_type": "code",
   "execution_count": 73,
   "metadata": {},
   "outputs": [],
   "source": [
    "top_n_features = pd.read_pickle(\"/home/nicolasj92/projects/bosch_cnc_machining/features_and_data/top_30_features_train_3_periods.pkl\")\n",
    "\n",
    "X_train = loader.sample_data_X.iloc[loader.train_sample_ids][top_n_features]\n",
    "y_train = loader.sample_data_y[loader.train_sample_ids]\n",
    "\n",
    "X_val = loader.sample_data_X.iloc[loader.val_sample_ids][top_n_features]\n",
    "y_val = loader.sample_data_y[loader.val_sample_ids]\n",
    "\n",
    "X_test = loader.sample_data_X.iloc[loader.test_sample_ids][top_n_features]\n",
    "y_test = loader.sample_data_y[loader.test_sample_ids]"
   ]
  },
  {
   "cell_type": "markdown",
   "metadata": {},
   "source": [
    "### Train and test a classification model"
   ]
  },
  {
   "cell_type": "code",
   "execution_count": 74,
   "metadata": {},
   "outputs": [],
   "source": [
    "from sklearn.ensemble import RandomForestClassifier, IsolationForest\n",
    "from sklearn.svm import OneClassSVM\n",
    "from sklearn.metrics import classification_report"
   ]
  },
  {
   "cell_type": "code",
   "execution_count": 76,
   "metadata": {},
   "outputs": [
    {
     "name": "stdout",
     "output_type": "stream",
     "text": [
      "Training Set\n",
      "              precision    recall  f1-score   support\n",
      "\n",
      "          OK       1.00      1.00      1.00       558\n",
      "         NOK       1.00      1.00      1.00        31\n",
      "\n",
      "    accuracy                           1.00       589\n",
      "   macro avg       1.00      1.00      1.00       589\n",
      "weighted avg       1.00      1.00      1.00       589\n",
      "\n",
      "Validation Set\n",
      "              precision    recall  f1-score   support\n",
      "\n",
      "          OK       1.00      1.00      1.00       235\n",
      "         NOK       1.00      1.00      1.00        18\n",
      "\n",
      "    accuracy                           1.00       253\n",
      "   macro avg       1.00      1.00      1.00       253\n",
      "weighted avg       1.00      1.00      1.00       253\n",
      "\n",
      "Test Set\n",
      "              precision    recall  f1-score   support\n",
      "\n",
      "          OK       0.99      0.99      0.99       964\n",
      "         NOK       0.74      0.76      0.75        38\n",
      "\n",
      "    accuracy                           0.98      1002\n",
      "   macro avg       0.87      0.88      0.87      1002\n",
      "weighted avg       0.98      0.98      0.98      1002\n",
      "\n"
     ]
    }
   ],
   "source": [
    "model = RandomForestClassifier()\n",
    "model.fit(X_train, y_train)\n",
    "\n",
    "y_pred_train = model.predict(X_train)\n",
    "y_pred_val = model.predict(X_val)\n",
    "y_pred_test = model.predict(X_test)\n",
    "\n",
    "print(\"Training Set\")\n",
    "print(classification_report(y_train, y_pred_train, target_names=[\"OK\", \"NOK\"]))\n",
    "print(\"Validation Set\")\n",
    "print(classification_report(y_val, y_pred_val, target_names=[\"OK\", \"NOK\"]))\n",
    "print(\"Test Set\")\n",
    "print(classification_report(y_test, y_pred_test, target_names=[\"OK\", \"NOK\"]))"
   ]
  },
  {
   "cell_type": "code",
   "execution_count": null,
   "metadata": {},
   "outputs": [],
   "source": []
  }
 ],
 "metadata": {
  "kernelspec": {
   "display_name": "Python 3.9.12 ('base')",
   "language": "python",
   "name": "python3"
  },
  "language_info": {
   "codemirror_mode": {
    "name": "ipython",
    "version": 3
   },
   "file_extension": ".py",
   "mimetype": "text/x-python",
   "name": "python",
   "nbconvert_exporter": "python",
   "pygments_lexer": "ipython3",
   "version": "3.9.12"
  },
  "orig_nbformat": 4,
  "vscode": {
   "interpreter": {
    "hash": "4c52cee0ff20d7e84ea37bffd07e43c304debdae63fb6905a853edb9ff256302"
   }
  }
 },
 "nbformat": 4,
 "nbformat_minor": 2
}
