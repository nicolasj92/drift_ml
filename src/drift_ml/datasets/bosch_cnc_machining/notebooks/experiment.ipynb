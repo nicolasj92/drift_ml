{
 "cells": [
  {
   "cell_type": "code",
   "execution_count": 23,
   "metadata": {},
   "outputs": [
    {
     "name": "stdout",
     "output_type": "stream",
     "text": [
      "The autoreload extension is already loaded. To reload it, use:\n",
      "  %reload_ext autoreload\n"
     ]
    }
   ],
   "source": [
    "%load_ext autoreload\n",
    "%autoreload 2\n",
    "\n",
    "from sklearn.pipeline import Pipeline\n",
    "\n",
    "from drift_ml.datasets.bosch_cnc_machining.models.nnclassifier import NNClassifier\n",
    "from drift_ml.datasets.bosch_cnc_machining.utils.experiment import DriftExperiment\n",
    "from drift_ml.datasets.bosch_cnc_machining.utils.dataloader import DriftDataLoader, NPYBoschCNCDataLoader, Standardizer\n"
   ]
  },
  {
   "cell_type": "code",
   "execution_count": 24,
   "metadata": {},
   "outputs": [],
   "source": [
    "base_loader = NPYBoschCNCDataLoader(metadata_path=\"/home/tbiegel/nico_files/cms_2023_code/drift_ml/src/drift_ml/datasets/bosch_cnc_machining/extracted_features/metadata_ws4096.pkl\")\n",
    "base_loader.load_data(\n",
    "    sample_data_x_path=\"/home/tbiegel/nico_files/cms_2023_code/drift_ml/src/drift_ml/datasets/bosch_cnc_machining/extracted_features/npy/sample_data_x_raw_ws4096.npy\",\n",
    "    sample_data_y_path=\"/home/tbiegel/nico_files/cms_2023_code/drift_ml/src/drift_ml/datasets/bosch_cnc_machining/extracted_features/npy/sample_data_y_raw_ws4096.npy\"\n",
    "    )"
   ]
  },
  {
   "cell_type": "code",
   "execution_count": 77,
   "metadata": {},
   "outputs": [],
   "source": [
    "sudden_config = {\n",
    "    \"mode\": {\n",
    "        \"features\": \"stft\",\n",
    "        \"featureset\": None\n",
    "    },\n",
    "    \"base_config\": {\n",
    "        \"train_size\": 0.3,\n",
    "        \"val_size\": 0.2,  # todo\n",
    "        \"test_size\": 0.5,\n",
    "        \"machines\": None,\n",
    "        \"processes\": None,\n",
    "        \"periods\": [\"Feb_2019\", \"Aug_2019\", \"Feb_2020\"],\n",
    "    },\n",
    "    \"drift_config\": [\n",
    "        {\n",
    "            \"length\": 10000,\n",
    "            \"type\": \"constant\",\n",
    "            \"only_test\": True,  # todo: False,\n",
    "            \"machines\": None,\n",
    "            \"processes\": None,\n",
    "            \"periods\":  [\"Feb_2019\", \"Aug_2019\", \"Feb_2020\"],\n",
    "            \"transform_fn\": None,\n",
    "        },\n",
    "        {\n",
    "            \"length\": 10000,\n",
    "            \"type\": \"constant\",\n",
    "            \"only_test\": True,  # todo: False,\n",
    "            \"machines\": None,\n",
    "            \"processes\": None,\n",
    "            \"periods\":  [\"Aug_2020\", \"Feb_2021\", \"Aug_2021\"],\n",
    "            \"transform_fn\": None# lambda x: augment_xyz_samples(x, pitch_deg=30),\n",
    "        },\n",
    "    ],\n",
    "}"
   ]
  },
  {
   "cell_type": "code",
   "execution_count": 78,
   "metadata": {},
   "outputs": [],
   "source": [
    "drift_dataloader = DriftDataLoader(baseloader=base_loader, config=sudden_config)\n",
    "model = Pipeline([('standardizer', Standardizer()), ('cnn', NNClassifier())])"
   ]
  },
  {
   "cell_type": "code",
   "execution_count": 83,
   "metadata": {},
   "outputs": [],
   "source": [
    "experiment = DriftExperiment(\n",
    "    model,\n",
    "    drift_dataloader,\n",
    "    chunksize=10000,\n",
    "    window_size=1000,\n",
    "    name=\"test_run\",\n",
    "    result_dir=\"/home/tbiegel/nico_files/cms_2023_code/drift_ml/src/drift_ml/datasets/bosch_cnc_machining/experiment_results\",\n",
    "    length=20000,\n",
    "    fit_model=True,\n",
    ")"
   ]
  },
  {
   "cell_type": "code",
   "execution_count": 84,
   "metadata": {},
   "outputs": [
    {
     "name": "stderr",
     "output_type": "stream",
     "text": [
      "INFO:root:Doing the initial training of the model.\n",
      "DEBUG:root:Starting training with batch size 128, lrate 0.01, epochs 20\n"
     ]
    },
    {
     "data": {
      "application/vnd.jupyter.widget-view+json": {
       "model_id": "10c84ef802704c1e84cc2b8696fc90cd",
       "version_major": 2,
       "version_minor": 0
      },
      "text/plain": [
       "Training NN:   0%|          | 0/20 [00:00<?, ?it/s]"
      ]
     },
     "metadata": {},
     "output_type": "display_data"
    },
    {
     "data": {
      "application/vnd.jupyter.widget-view+json": {
       "model_id": "0af5079556c148c6bc32bb051584cdd6",
       "version_major": 2,
       "version_minor": 0
      },
      "text/plain": [
       "  0%|          | 0/20000 [00:00<?, ?it/s]"
      ]
     },
     "metadata": {},
     "output_type": "display_data"
    }
   ],
   "source": [
    "experiment.run()"
   ]
  },
  {
   "cell_type": "code",
   "execution_count": 85,
   "metadata": {},
   "outputs": [
    {
     "data": {
      "text/plain": [
       "[<matplotlib.lines.Line2D at 0x7f2c92bfeac0>]"
      ]
     },
     "execution_count": 85,
     "metadata": {},
     "output_type": "execute_result"
    },
    {
     "data": {
      "image/png": "[encoded data removed]",
      "text/plain": [
       "<Figure size 432x288 with 1 Axes>"
      ]
     },
     "metadata": {
      "needs_background": "light"
     },
     "output_type": "display_data"
    }
   ],
   "source": [
    "import matplotlib.pyplot as plt\n",
    "plt.plot(experiment.metric_results_pred[\"mcc\"])"
   ]
  },
  {
   "cell_type": "code",
   "execution_count": null,
   "metadata": {},
   "outputs": [],
   "source": []
  },
  {
   "cell_type": "code",
   "execution_count": null,
   "metadata": {},
   "outputs": [],
   "source": []
  },
  {
   "cell_type": "code",
   "execution_count": null,
   "metadata": {},
   "outputs": [],
   "source": []
  },
  {
   "cell_type": "code",
   "execution_count": null,
   "metadata": {},
   "outputs": [],
   "source": []
  },
  {
   "cell_type": "code",
   "execution_count": 54,
   "metadata": {},
   "outputs": [],
   "source": [
    "X_train_raw, y_train = drift_dataloader.access_base_samples(dataset=\"train\")\n",
    "X_val_raw, y_val = drift_dataloader.access_base_samples(dataset=\"val\")\n",
    "\n",
    "standardizer = Standardizer()\n",
    "X_train = standardizer.fit_transform(X_train_raw)\n",
    "X_val = standardizer.transform(X_val_raw)"
   ]
  },
  {
   "cell_type": "code",
   "execution_count": 64,
   "metadata": {},
   "outputs": [
    {
     "name": "stderr",
     "output_type": "stream",
     "text": [
      "DEBUG:root:Starting training with batch size 128, lrate 0.01, epochs 20\n"
     ]
    },
    {
     "data": {
      "application/vnd.jupyter.widget-view+json": {
       "model_id": "ddb430647f32484188dd3ba390f04d71",
       "version_major": 2,
       "version_minor": 0
      },
      "text/plain": [
       "Training NN:   0%|          | 0/20 [00:00<?, ?it/s]"
      ]
     },
     "metadata": {},
     "output_type": "display_data"
    },
    {
     "name": "stderr",
     "output_type": "stream",
     "text": [
      "/home/tbiegel/nico_files/cms_2023_code/drift_ml/src/drift_ml/datasets/bosch_cnc_machining/models/nnclassifier.py:53: UserWarning: To copy construct from a tensor, it is recommended to use sourceTensor.clone().detach() or sourceTensor.clone().detach().requires_grad_(True), rather than torch.tensor(sourceTensor).\n",
      "  tensor(X).to(self.device).float(),\n",
      "DEBUG:root:Final val. performance: AUROC 0.96, AURPC 0.93, F1 0.86\n"
     ]
    }
   ],
   "source": [
    "cnn = NNClassifier()\n",
    "cnn.fit(X_train, y_train, val_X=X_val, val_y=y_val, lrate=1e-2)"
   ]
  },
  {
   "cell_type": "code",
   "execution_count": null,
   "metadata": {},
   "outputs": [],
   "source": []
  }
 ],
 "metadata": {
  "kernelspec": {
   "display_name": "base",
   "language": "python",
   "name": "python3"
  },
  "language_info": {
   "codemirror_mode": {
    "name": "ipython",
    "version": 3
   },
   "file_extension": ".py",
   "mimetype": "text/x-python",
   "name": "python",
   "nbconvert_exporter": "python",
   "pygments_lexer": "ipython3",
   "version": "3.9.12"
  },
  "orig_nbformat": 4,
  "vscode": {
   "interpreter": {
    "hash": "4c52cee0ff20d7e84ea37bffd07e43c304debdae63fb6905a853edb9ff256302"
   }
  }
 },
 "nbformat": 4,
 "nbformat_minor": 2
}
