{
 "cells": [
  {
   "cell_type": "code",
   "execution_count": 3,
   "metadata": {},
   "outputs": [
    {
     "name": "stdout",
     "output_type": "stream",
     "text": [
      "The autoreload extension is already loaded. To reload it, use:\n",
      "  %reload_ext autoreload\n"
     ]
    }
   ],
   "source": [
    "%load_ext autoreload\n",
    "%autoreload 2\n",
    "\n",
    "import numpy as np\n",
    "import matplotlib.pyplot as plt\n",
    "\n",
    "from sklearn.pipeline import Pipeline\n",
    "from sklearn.ensemble import RandomForestClassifier\n",
    "from tsfresh.feature_extraction import MinimalFCParameters\n",
    "\n",
    "from drift_ml.datasets.bosch_cnc_machining.models.nnclassifier import NNClassifier, NNEnsembleClassifier\n",
    "from drift_ml.datasets.bosch_cnc_machining.utils.experiment import DriftExperiment\n",
    "from drift_ml.datasets.bosch_cnc_machining.utils.utils import augment_xyz_samples\n",
    "from drift_ml.datasets.bosch_cnc_machining.utils.dataloader import DriftDataLoader, NPYBoschCNCDataLoader, Standardizer\n"
   ]
  },
  {
   "cell_type": "code",
   "execution_count": 4,
   "metadata": {},
   "outputs": [
    {
     "name": "stderr",
     "output_type": "stream",
     "text": [
      "/home/tbiegel/anaconda3/lib/python3.9/site-packages/xgboost/compat.py:31: FutureWarning: pandas.Int64Index is deprecated and will be removed from pandas in a future version. Use pandas.Index with the appropriate dtype instead.\n",
      "  from pandas import MultiIndex, Int64Index\n"
     ]
    }
   ],
   "source": [
    "from driftdec.utils.detectors import (\n",
    "    BlindDetector,\n",
    "    ErrorRateBasedRiverDetector,\n",
    "    UncertaintyBasedRiverDetector,\n",
    "    ErrorBasedNannyMLDetector,\n",
    "    UncertaintyBasedNannyMLDetector,\n",
    "    PCAReconstructionErrorBasedNannyMLDetector,\n",
    ")\n",
    "from driftdec.utils.classifier import HyperparameterTunedClassifer\n",
    "\n",
    "\n",
    "from river.drift import ADWIN, DDM\n",
    "from nannyml.drift.univariate.methods import (\n",
    "    JensenShannonDistance,\n",
    "    KolmogorovSmirnovStatistic,\n",
    "    Chi2Statistic,\n",
    "    LInfinityDistance,\n",
    "    WassersteinDistance,\n",
    "    HellingerDistance,\n",
    ")"
   ]
  },
  {
   "cell_type": "code",
   "execution_count": 5,
   "metadata": {},
   "outputs": [],
   "source": [
    "base_loader = NPYBoschCNCDataLoader(metadata_path=\"/home/tbiegel/nico_files/cms_2023_code/drift_ml/src/drift_ml/datasets/bosch_cnc_machining/extracted_features/metadata_ws4096.pkl\")\n",
    "base_loader.load_data(\n",
    "    sample_data_x_path=\"/home/tbiegel/nico_files/cms_2023_code/drift_ml/src/drift_ml/datasets/bosch_cnc_machining/extracted_features/npy/sample_data_x_raw_ws4096.npy\",\n",
    "    sample_data_y_path=\"/home/tbiegel/nico_files/cms_2023_code/drift_ml/src/drift_ml/datasets/bosch_cnc_machining/extracted_features/npy/sample_data_y_raw_ws4096.npy\"\n",
    "    )"
   ]
  },
  {
   "cell_type": "code",
   "execution_count": 6,
   "metadata": {},
   "outputs": [],
   "source": [
    "sudden_config = {\n",
    "    \"mode\": {\n",
    "        \"features\": \"stft\",\n",
    "        \"featureset\": None,#MinimalFCParameters()\n",
    "    },\n",
    "    \"base_config\": {\n",
    "        \"train_size\": 0.4,\n",
    "        \"val_size\": 0.1, \n",
    "        \"test_size\": 0.5,\n",
    "        \"machines\": None,\n",
    "        \"processes\": None,\n",
    "        \"periods\": [\"Feb_2019\",\"Aug_2019\",\"Feb_2020\"],\n",
    "    },\n",
    "    \"drift_config\": [\n",
    "        {\n",
    "            \"length\": None,#10000,\n",
    "            \"type\": \"constant\",\n",
    "            \"only_test\": True,  # todo: False,\n",
    "            \"machines\": None,\n",
    "            \"processes\": None,\n",
    "            \"periods\":  [\"Feb_2019\",\"Aug_2019\",\"Feb_2020\"],\n",
    "            \"transform_fn\": None,\n",
    "        },\n",
    "        {\n",
    "            \"length\": None,#10000,\n",
    "            \"type\": \"constant\",\n",
    "            \"only_test\": True,  # todo: False,\n",
    "            \"machines\": None,\n",
    "            \"processes\": None,\n",
    "            \"periods\":  [\"Aug_2020\",\"Feb_2021\",\"Aug_2021\"],\n",
    "            \"transform_fn\": None,# lambda x: augment_xyz_samples(x, pitch_deg=30),\n",
    "        }\n",
    "    ],\n",
    "}"
   ]
  },
  {
   "cell_type": "code",
   "execution_count": 14,
   "metadata": {},
   "outputs": [],
   "source": [
    "# detector = UncertaintyBasedNannyMLDetector(\n",
    "#     detector_class=KolmogorovSmirnovStatistic, max_window_len=1000, step=1, detector_params={},\n",
    "# )\n",
    "\n",
    "random_seed = 42\n",
    "\n",
    "drift_dataloader = DriftDataLoader(baseloader=base_loader, config=sudden_config, random_seed=random_seed)"
   ]
  },
  {
   "cell_type": "code",
   "execution_count": 15,
   "metadata": {},
   "outputs": [
    {
     "name": "stdout",
     "output_type": "stream",
     "text": [
      "21722 [14851, 21722]\n"
     ]
    }
   ],
   "source": [
    "print(drift_dataloader.max_drift_data_length, drift_dataloader.config_change_points)"
   ]
  },
  {
   "cell_type": "code",
   "execution_count": 16,
   "metadata": {},
   "outputs": [
    {
     "name": "stderr",
     "output_type": "stream",
     "text": [
      "Doing the initial training of the model.\n"
     ]
    },
    {
     "data": {
      "application/vnd.jupyter.widget-view+json": {
       "model_id": "464f2eac378c48d6bfa38e282c41bd5a",
       "version_major": 2,
       "version_minor": 0
      },
      "text/plain": [
       "Training NN:   0%|          | 0/80 [00:00<?, ?it/s]"
      ]
     },
     "metadata": {},
     "output_type": "display_data"
    },
    {
     "name": "stderr",
     "output_type": "stream",
     "text": [
      "Val results:\n",
      "Starting experiment queue...\n"
     ]
    },
    {
     "name": "stdout",
     "output_type": "stream",
     "text": [
      "accuracy: 1.00\n",
      "mcc: 0.94\n",
      "f1: 0.94\n",
      "precision: 0.92\n",
      "recall: 0.96\n"
     ]
    },
    {
     "data": {
      "application/vnd.jupyter.widget-view+json": {
       "model_id": "3d61949a15f54fd193c4aa372a34374c",
       "version_major": 2,
       "version_minor": 0
      },
      "text/plain": [
       "  0%|          | 0/21500 [00:00<?, ?it/s]"
      ]
     },
     "metadata": {},
     "output_type": "display_data"
    },
    {
     "name": "stderr",
     "output_type": "stream",
     "text": [
      "Drift detected at 15711\n",
      "Retraining at index 15711\n"
     ]
    },
    {
     "name": "stdout",
     "output_type": "stream",
     "text": [
      "Config 1 length is 6871\n",
      "Taking 100 parts with 2643 samples\n",
      "Remaining length is 3368\n",
      "(13786, 3, 129, 33)\n",
      "(13786,)\n",
      "385.0\n"
     ]
    },
    {
     "data": {
      "application/vnd.jupyter.widget-view+json": {
       "model_id": "ae245f6f3e3e45a6b5282a9e10f8d724",
       "version_major": 2,
       "version_minor": 0
      },
      "text/plain": [
       "Training NN:   0%|          | 0/80 [00:00<?, ?it/s]"
      ]
     },
     "metadata": {},
     "output_type": "display_data"
    }
   ],
   "source": [
    "detector = UncertaintyBasedRiverDetector(\n",
    "    detector_class=ADWIN, detector_params={}\n",
    ")\n",
    "\n",
    "model = Pipeline([('standardizer', Standardizer()), ('cnn', NNClassifier(\n",
    "    temperature=1.0, random_seed=random_seed, epochs=80\n",
    "))])\n",
    "\n",
    "experiment = DriftExperiment(\n",
    "    model,\n",
    "    drift_dataloader,\n",
    "    drift_detector=detector,\n",
    "    chunksize=5000,\n",
    "    window_size=500,\n",
    "    name=\"test_run\",\n",
    "    result_dir=\"/home/tbiegel/nico_files/cms_2023_code/drift_ml/src/drift_ml/datasets/bosch_cnc_machining/experiment_results\",\n",
    "    length=21500,\n",
    "    retrain_at_drift=True,\n",
    "    retrain_with_train_set=True,\n",
    "    retrain_new_parts=100,\n",
    "    fit_model=True,\n",
    "    val_model=True\n",
    ")\n",
    "experiment.run()"
   ]
  },
  {
   "cell_type": "code",
   "execution_count": 17,
   "metadata": {},
   "outputs": [
    {
     "data": {
      "image/png": "[encoded data removed]",
      "text/plain": [
       "<Figure size 432x288 with 1 Axes>"
      ]
     },
     "metadata": {
      "needs_background": "light"
     },
     "output_type": "display_data"
    }
   ],
   "source": [
    "plt.plot(experiment.metric_results_pred[\"f1\"])\n",
    "plt.show()"
   ]
  },
  {
   "cell_type": "code",
   "execution_count": 18,
   "metadata": {},
   "outputs": [
    {
     "data": {
      "image/png": "[encoded data removed]",
      "text/plain": [
       "<Figure size 432x288 with 1 Axes>"
      ]
     },
     "metadata": {
      "needs_background": "light"
     },
     "output_type": "display_data"
    }
   ],
   "source": [
    "def movingaverage(interval, window_size):\n",
    "    window= np.ones(int(window_size))/float(window_size)\n",
    "    return np.convolve(interval, window, 'same')\n",
    "\n",
    "plt.plot(movingaverage(experiment.y_pred_entr, 1000))\n",
    "plt.show()"
   ]
  },
  {
   "cell_type": "code",
   "execution_count": null,
   "metadata": {},
   "outputs": [],
   "source": []
  },
  {
   "cell_type": "code",
   "execution_count": null,
   "metadata": {},
   "outputs": [],
   "source": []
  }
 ],
 "metadata": {
  "kernelspec": {
   "display_name": "base",
   "language": "python",
   "name": "python3"
  },
  "language_info": {
   "codemirror_mode": {
    "name": "ipython",
    "version": 3
   },
   "file_extension": ".py",
   "mimetype": "text/x-python",
   "name": "python",
   "nbconvert_exporter": "python",
   "pygments_lexer": "ipython3",
   "version": "3.9.12"
  },
  "orig_nbformat": 4,
  "vscode": {
   "interpreter": {
    "hash": "4c52cee0ff20d7e84ea37bffd07e43c304debdae63fb6905a853edb9ff256302"
   }
  }
 },
 "nbformat": 4,
 "nbformat_minor": 2
}
