{
 "cells": [
  {
   "cell_type": "code",
   "execution_count": 1,
   "metadata": {},
   "outputs": [],
   "source": [
    "%load_ext autoreload\n",
    "%autoreload 2\n",
    "\n",
    "from sklearn.pipeline import Pipeline\n",
    "\n",
    "from drift_ml.datasets.bosch_cnc_machining.models.nnclassifier import NNClassifier, NNEnsembleClassifier\n",
    "from drift_ml.datasets.bosch_cnc_machining.utils.experiment import DriftExperiment\n",
    "from drift_ml.datasets.bosch_cnc_machining.utils.dataloader import DriftDataLoader, NPYBoschCNCDataLoader, Standardizer\n"
   ]
  },
  {
   "cell_type": "code",
   "execution_count": 2,
   "metadata": {},
   "outputs": [
    {
     "name": "stderr",
     "output_type": "stream",
     "text": [
      "/home/tbiegel/anaconda3/lib/python3.9/site-packages/xgboost/compat.py:31: FutureWarning: pandas.Int64Index is deprecated and will be removed from pandas in a future version. Use pandas.Index with the appropriate dtype instead.\n",
      "  from pandas import MultiIndex, Int64Index\n"
     ]
    }
   ],
   "source": [
    "from driftdec.utils.detectors import (\n",
    "    BlindDetector,\n",
    "    ErrorRateBasedRiverDetector,\n",
    "    UncertaintyBasedRiverDetector,\n",
    "    ErrorBasedNannyMLDetector,\n",
    "    UncertaintyBasedNannyMLDetector,\n",
    "    PCAReconstructionErrorBasedNannyMLDetector,\n",
    ")\n",
    "from nannyml.drift.univariate.methods import (\n",
    "    JensenShannonDistance,\n",
    "    KolmogorovSmirnovStatistic,\n",
    "    Chi2Statistic,\n",
    "    LInfinityDistance,\n",
    "    WassersteinDistance,\n",
    "    HellingerDistance,\n",
    ")"
   ]
  },
  {
   "cell_type": "code",
   "execution_count": 3,
   "metadata": {},
   "outputs": [],
   "source": [
    "base_loader = NPYBoschCNCDataLoader(metadata_path=\"/home/tbiegel/nico_files/cms_2023_code/drift_ml/src/drift_ml/datasets/bosch_cnc_machining/extracted_features/metadata_ws4096.pkl\")\n",
    "base_loader.load_data(\n",
    "    sample_data_x_path=\"/home/tbiegel/nico_files/cms_2023_code/drift_ml/src/drift_ml/datasets/bosch_cnc_machining/extracted_features/npy/sample_data_x_raw_ws4096.npy\",\n",
    "    sample_data_y_path=\"/home/tbiegel/nico_files/cms_2023_code/drift_ml/src/drift_ml/datasets/bosch_cnc_machining/extracted_features/npy/sample_data_y_raw_ws4096.npy\"\n",
    "    )"
   ]
  },
  {
   "cell_type": "code",
   "execution_count": 4,
   "metadata": {},
   "outputs": [],
   "source": [
    "sudden_config = {\n",
    "    \"mode\": {\n",
    "        \"features\": \"stft\",\n",
    "        \"featureset\": None\n",
    "    },\n",
    "    \"base_config\": {\n",
    "        \"train_size\": 0.3,\n",
    "        \"val_size\": 0.2,  # todo\n",
    "        \"test_size\": 0.5,\n",
    "        \"machines\": None,\n",
    "        \"processes\": None,\n",
    "        \"periods\": [\"Feb_2019\", \"Aug_2019\", \"Feb_2020\"],\n",
    "    },\n",
    "    \"drift_config\": [\n",
    "        {\n",
    "            \"length\": 10000,\n",
    "            \"type\": \"constant\",\n",
    "            \"only_test\": True,  # todo: False,\n",
    "            \"machines\": None,\n",
    "            \"processes\": None,\n",
    "            \"periods\":  [\"Feb_2019\", \"Aug_2019\", \"Feb_2020\"],\n",
    "            \"transform_fn\": None,\n",
    "        },\n",
    "        {\n",
    "            \"length\": 10000,\n",
    "            \"type\": \"constant\",\n",
    "            \"only_test\": True,  # todo: False,\n",
    "            \"machines\": None,\n",
    "            \"processes\": None,\n",
    "            \"periods\":  [\"Aug_2020\", \"Feb_2021\", \"Aug_2021\"],\n",
    "            \"transform_fn\": None# lambda x: augment_xyz_samples(x, pitch_deg=30),\n",
    "        },\n",
    "        {\n",
    "            \"length\": 10000,\n",
    "            \"type\": \"constant\",\n",
    "            \"only_test\": True,  # todo: False,\n",
    "            \"machines\": None,\n",
    "            \"processes\": None,\n",
    "            \"periods\":  None,\n",
    "            \"transform_fn\": None# lambda x: augment_xyz_samples(x, pitch_deg=30),\n",
    "        },\n",
    "    ],\n",
    "}"
   ]
  },
  {
   "cell_type": "code",
   "execution_count": 5,
   "metadata": {},
   "outputs": [],
   "source": [
    "drift_dataloader = DriftDataLoader(baseloader=base_loader, config=sudden_config)\n",
    "model = Pipeline([('standardizer', Standardizer()), ('cnn', NNClassifier())])"
   ]
  },
  {
   "cell_type": "code",
   "execution_count": 17,
   "metadata": {},
   "outputs": [],
   "source": [
    "detector = UncertaintyBasedNannyMLDetector(\n",
    "    detector_class=KolmogorovSmirnovStatistic, max_window_len=100, detector_params={},\n",
    ")"
   ]
  },
  {
   "cell_type": "code",
   "execution_count": 37,
   "metadata": {},
   "outputs": [],
   "source": [
    "experiment = DriftExperiment(\n",
    "    model,\n",
    "    drift_dataloader,\n",
    "    drift_detector=detector,\n",
    "    chunksize=5000,\n",
    "    window_size=1000,\n",
    "    name=\"test_run\",\n",
    "    result_dir=\"/home/tbiegel/nico_files/cms_2023_code/drift_ml/src/drift_ml/datasets/bosch_cnc_machining/experiment_results\",\n",
    "    length=15000,\n",
    "    retrain_at_drift=True,\n",
    "    fit_model=True,\n",
    "    # fit_kwargs={\"cnn__epochs\":50}\n",
    ")"
   ]
  },
  {
   "cell_type": "code",
   "execution_count": 38,
   "metadata": {},
   "outputs": [
    {
     "name": "stderr",
     "output_type": "stream",
     "text": [
      "Doing the initial training of the model.\n"
     ]
    },
    {
     "data": {
      "application/vnd.jupyter.widget-view+json": {
       "model_id": "eeffa93a279b48efa929e9675d9b38bc",
       "version_major": 2,
       "version_minor": 0
      },
      "text/plain": [
       "Training NN:   0%|          | 0/20 [00:00<?, ?it/s]"
      ]
     },
     "metadata": {},
     "output_type": "display_data"
    },
    {
     "data": {
      "application/vnd.jupyter.widget-view+json": {
       "model_id": "a10c7323a4994200aaac4d32fc90889d",
       "version_major": 2,
       "version_minor": 0
      },
      "text/plain": [
       "  0%|          | 0/15000 [00:00<?, ?it/s]"
      ]
     },
     "metadata": {},
     "output_type": "display_data"
    },
    {
     "name": "stderr",
     "output_type": "stream",
     "text": [
      "Drift detected at 10099\n",
      "Retraining with new samples 10099 - 11099\n"
     ]
    },
    {
     "data": {
      "application/vnd.jupyter.widget-view+json": {
       "model_id": "c338e848429048aeb94f9b88a356b947",
       "version_major": 2,
       "version_minor": 0
      },
      "text/plain": [
       "Training NN:   0%|          | 0/20 [00:00<?, ?it/s]"
      ]
     },
     "metadata": {},
     "output_type": "display_data"
    }
   ],
   "source": [
    "experiment.run()"
   ]
  },
  {
   "cell_type": "code",
   "execution_count": 41,
   "metadata": {},
   "outputs": [
    {
     "data": {
      "text/plain": [
       "(0.0, 1.0)"
      ]
     },
     "execution_count": 41,
     "metadata": {},
     "output_type": "execute_result"
    },
    {
     "data": {
      "image/png": "[encoded data removed]",
      "text/plain": [
       "<Figure size 432x288 with 1 Axes>"
      ]
     },
     "metadata": {
      "needs_background": "light"
     },
     "output_type": "display_data"
    }
   ],
   "source": [
    "import matplotlib.pyplot as plt\n",
    "plt.plot(experiment.metric_results_pred[\"f1\"])\n",
    "plt.ylim([0, 1])"
   ]
  },
  {
   "cell_type": "code",
   "execution_count": null,
   "metadata": {},
   "outputs": [],
   "source": []
  },
  {
   "cell_type": "code",
   "execution_count": null,
   "metadata": {},
   "outputs": [],
   "source": []
  },
  {
   "cell_type": "code",
   "execution_count": null,
   "metadata": {},
   "outputs": [],
   "source": [
    "X_train_raw, y_train = drift_dataloader.access_base_samples(dataset=\"train\")\n",
    "X_val_raw, y_val = drift_dataloader.access_base_samples(dataset=\"val\")\n",
    "\n",
    "standardizer = Standardizer()\n",
    "X_train = standardizer.fit_transform(X_train_raw)\n",
    "X_val = standardizer.transform(X_val_raw)"
   ]
  },
  {
   "cell_type": "code",
   "execution_count": null,
   "metadata": {},
   "outputs": [
    {
     "data": {
      "application/vnd.jupyter.widget-view+json": {
       "model_id": "0f69d2fda0d74d22b3674669c1010065",
       "version_major": 2,
       "version_minor": 0
      },
      "text/plain": [
       "Training NN:   0%|          | 0/20 [00:00<?, ?it/s]"
      ]
     },
     "metadata": {},
     "output_type": "display_data"
    },
    {
     "name": "stderr",
     "output_type": "stream",
     "text": [
      "/home/tbiegel/nico_files/cms_2023_code/drift_ml/src/drift_ml/datasets/bosch_cnc_machining/models/nnclassifier.py:54: UserWarning: To copy construct from a tensor, it is recommended to use sourceTensor.clone().detach() or sourceTensor.clone().detach().requires_grad_(True), rather than torch.tensor(sourceTensor).\n",
      "  tensor(X).to(self.device).float(),\n"
     ]
    },
    {
     "ename": "KeyboardInterrupt",
     "evalue": "",
     "output_type": "error",
     "traceback": [
      "\u001b[0;31m---------------------------------------------------------------------------\u001b[0m",
      "\u001b[0;31mKeyboardInterrupt\u001b[0m                         Traceback (most recent call last)",
      "\u001b[1;32m/home/tbiegel/nico_files/cms_2023_code/drift_ml/src/drift_ml/datasets/bosch_cnc_machining/notebooks/experiment.ipynb Cell 13\u001b[0m in \u001b[0;36m<cell line: 2>\u001b[0;34m()\u001b[0m\n\u001b[1;32m      <a href='vscode-notebook-cell://ssh-remote%2Bcip-workstation02/home/tbiegel/nico_files/cms_2023_code/drift_ml/src/drift_ml/datasets/bosch_cnc_machining/notebooks/experiment.ipynb#X15sdnNjb2RlLXJlbW90ZQ%3D%3D?line=0'>1</a>\u001b[0m cnn \u001b[39m=\u001b[39m NNClassifier()\n\u001b[0;32m----> <a href='vscode-notebook-cell://ssh-remote%2Bcip-workstation02/home/tbiegel/nico_files/cms_2023_code/drift_ml/src/drift_ml/datasets/bosch_cnc_machining/notebooks/experiment.ipynb#X15sdnNjb2RlLXJlbW90ZQ%3D%3D?line=1'>2</a>\u001b[0m cnn\u001b[39m.\u001b[39;49mfit(X_train, y_train, val_X\u001b[39m=\u001b[39;49mX_val, val_y\u001b[39m=\u001b[39;49my_val, lrate\u001b[39m=\u001b[39;49m\u001b[39m1e-2\u001b[39;49m)\n",
      "File \u001b[0;32m~/nico_files/cms_2023_code/drift_ml/src/drift_ml/datasets/bosch_cnc_machining/models/nnclassifier.py:126\u001b[0m, in \u001b[0;36mNNClassifier.fit\u001b[0;34m(self, train_X, train_y, val_X, val_y, batch_size, lrate, epochs, class_weighted_sampling, verbose, show_final_val_performance, return_self)\u001b[0m\n\u001b[1;32m    123\u001b[0m \u001b[39mself\u001b[39m\u001b[39m.\u001b[39mmodel\u001b[39m.\u001b[39mtrain()\n\u001b[1;32m    125\u001b[0m \u001b[39mfor\u001b[39;00m idx, (X, y) \u001b[39min\u001b[39;00m \u001b[39menumerate\u001b[39m(train_loader):\n\u001b[0;32m--> 126\u001b[0m     X, y \u001b[39m=\u001b[39m X\u001b[39m.\u001b[39;49mto(\u001b[39mself\u001b[39;49m\u001b[39m.\u001b[39;49mdevice), y\u001b[39m.\u001b[39mto(\u001b[39mself\u001b[39m\u001b[39m.\u001b[39mdevice)\n\u001b[1;32m    128\u001b[0m     sgd\u001b[39m.\u001b[39mzero_grad()\n\u001b[1;32m    129\u001b[0m     predict_y \u001b[39m=\u001b[39m \u001b[39mself\u001b[39m\u001b[39m.\u001b[39mmodel(X\u001b[39m.\u001b[39mfloat())\n",
      "\u001b[0;31mKeyboardInterrupt\u001b[0m: "
     ]
    }
   ],
   "source": [
    "cnn = NNClassifier()\n",
    "cnn.fit(X_train, y_train, val_X=X_val, val_y=y_val, lrate=1e-2)"
   ]
  },
  {
   "cell_type": "code",
   "execution_count": null,
   "metadata": {},
   "outputs": [],
   "source": []
  }
 ],
 "metadata": {
  "kernelspec": {
   "display_name": "base",
   "language": "python",
   "name": "python3"
  },
  "language_info": {
   "codemirror_mode": {
    "name": "ipython",
    "version": 3
   },
   "file_extension": ".py",
   "mimetype": "text/x-python",
   "name": "python",
   "nbconvert_exporter": "python",
   "pygments_lexer": "ipython3",
   "version": "3.9.12"
  },
  "orig_nbformat": 4,
  "vscode": {
   "interpreter": {
    "hash": "4c52cee0ff20d7e84ea37bffd07e43c304debdae63fb6905a853edb9ff256302"
   }
  }
 },
 "nbformat": 4,
 "nbformat_minor": 2
}
