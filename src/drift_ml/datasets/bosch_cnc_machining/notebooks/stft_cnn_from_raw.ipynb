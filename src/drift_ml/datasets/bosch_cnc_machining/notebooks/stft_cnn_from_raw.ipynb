{
 "cells": [
  {
   "cell_type": "code",
   "execution_count": 1,
   "metadata": {},
   "outputs": [],
   "source": [
    "%load_ext autoreload\n",
    "%autoreload 2"
   ]
  },
  {
   "cell_type": "code",
   "execution_count": 2,
   "metadata": {},
   "outputs": [],
   "source": [
    "import numpy as np\n",
    "import matplotlib.pyplot as plt\n",
    "from drift_ml.datasets.bosch_cnc_machining.utils.dataloader import RawBoschCNCDataloader"
   ]
  },
  {
   "attachments": {},
   "cell_type": "markdown",
   "metadata": {},
   "source": [
    "### Create dataloaders\n",
    "- First create raw dataloader and load raw h5 files, save metadata as pkl file\n",
    "- Second create an stft dataloader from this"
   ]
  },
  {
   "cell_type": "code",
   "execution_count": 3,
   "metadata": {},
   "outputs": [
    {
     "data": {
      "application/vnd.jupyter.widget-view+json": {
       "model_id": "803e06d4ba3541d387c9b2df39592568",
       "version_major": 2,
       "version_minor": 0
      },
      "text/plain": [
       "Loading dataset files:   0%|          | 0/90 [00:00<?, ?it/s]"
      ]
     },
     "metadata": {},
     "output_type": "display_data"
    },
    {
     "data": {
      "application/vnd.jupyter.widget-view+json": {
       "model_id": "403e5961914942e98864cba3ef4afac6",
       "version_major": 2,
       "version_minor": 0
      },
      "text/plain": [
       "  0%|          | 0/42978 [00:00<?, ?it/s]"
      ]
     },
     "metadata": {},
     "output_type": "display_data"
    }
   ],
   "source": [
    "# metadata path ist der pfad wo der dataloader das metadata file abspeichern wird\n",
    "base_loader = RawBoschCNCDataloader()\n",
    "base_loader.load_raw_h5_data(raw_h5_data_path=\"/home/tbiegel/nico_files/drift_ml/src/drift_ml/datasets/bosch_cnc_machining/raw_data/data\")\n",
    "base_loader.save_metadata_to_file(metadata_path=\"/home/tbiegel/nico_files/drift_ml/src/drift_ml/datasets/bosch_cnc_machining/extracted_features/metadata_ws4096.pkl\")\n",
    "base_loader.generate_datasets_by_size(train_size=.5,val_size=.1,test_size=.4)\n",
    "stft_base_loader = base_loader.get_windowed_samples_as_stft_dataloader()"
   ]
  },
  {
   "attachments": {},
   "cell_type": "markdown",
   "metadata": {},
   "source": [
    "### Normalize data for CNN Training"
   ]
  },
  {
   "cell_type": "code",
   "execution_count": 4,
   "metadata": {},
   "outputs": [],
   "source": [
    "channel_means = np.mean(stft_base_loader.X_train, axis=(0, 2, 3), keepdims=True)\n",
    "channel_stds = np.std(stft_base_loader.X_train, axis=(0, 2, 3), keepdims=True)\n",
    "\n",
    "X_train_scaled = (stft_base_loader.X_train - channel_means) / channel_stds\n",
    "X_val_scaled = (stft_base_loader.X_val - channel_means) / channel_stds\n",
    "X_test_scaled = (stft_base_loader.X_test - channel_means) / channel_stds"
   ]
  },
  {
   "cell_type": "code",
   "execution_count": 6,
   "metadata": {},
   "outputs": [
    {
     "name": "stderr",
     "output_type": "stream",
     "text": [
      "DEBUG:root:Starting training with batch size 64, lrate 0.01, epochs 50\n"
     ]
    },
    {
     "data": {
      "application/vnd.jupyter.widget-view+json": {
       "model_id": "5d61c87f135946bd86774a6864217fef",
       "version_major": 2,
       "version_minor": 0
      },
      "text/plain": [
       "Training NN:   0%|          | 0/50 [00:00<?, ?it/s]"
      ]
     },
     "metadata": {},
     "output_type": "display_data"
    },
    {
     "ename": "KeyboardInterrupt",
     "evalue": "",
     "output_type": "error",
     "traceback": [
      "\u001b[0;31m---------------------------------------------------------------------------\u001b[0m",
      "\u001b[0;31mKeyboardInterrupt\u001b[0m                         Traceback (most recent call last)",
      "\u001b[1;32m/home/tbiegel/nico_files/drift_ml/src/drift_ml/datasets/bosch_cnc_machining/notebooks/stft_cnn_from_raw.ipynb Cell 7\u001b[0m in \u001b[0;36m<cell line: 18>\u001b[0;34m()\u001b[0m\n\u001b[1;32m     <a href='vscode-notebook-cell://ssh-remote%2Bcip-workstation02/home/tbiegel/nico_files/drift_ml/src/drift_ml/datasets/bosch_cnc_machining/notebooks/stft_cnn_from_raw.ipynb#W5sdnNjb2RlLXJlbW90ZQ%3D%3D?line=14'>15</a>\u001b[0m f1 \u001b[39m=\u001b[39m BinaryF1Score(threshold\u001b[39m=\u001b[39m\u001b[39m0.5\u001b[39m)\n\u001b[1;32m     <a href='vscode-notebook-cell://ssh-remote%2Bcip-workstation02/home/tbiegel/nico_files/drift_ml/src/drift_ml/datasets/bosch_cnc_machining/notebooks/stft_cnn_from_raw.ipynb#W5sdnNjb2RlLXJlbW90ZQ%3D%3D?line=16'>17</a>\u001b[0m model \u001b[39m=\u001b[39m NNClassifier(model\u001b[39m=\u001b[39mLeNet, device\u001b[39m=\u001b[39m\u001b[39m\"\u001b[39m\u001b[39mcuda\u001b[39m\u001b[39m\"\u001b[39m)\n\u001b[0;32m---> <a href='vscode-notebook-cell://ssh-remote%2Bcip-workstation02/home/tbiegel/nico_files/drift_ml/src/drift_ml/datasets/bosch_cnc_machining/notebooks/stft_cnn_from_raw.ipynb#W5sdnNjb2RlLXJlbW90ZQ%3D%3D?line=17'>18</a>\u001b[0m model\u001b[39m.\u001b[39;49mfit(\n\u001b[1;32m     <a href='vscode-notebook-cell://ssh-remote%2Bcip-workstation02/home/tbiegel/nico_files/drift_ml/src/drift_ml/datasets/bosch_cnc_machining/notebooks/stft_cnn_from_raw.ipynb#W5sdnNjb2RlLXJlbW90ZQ%3D%3D?line=18'>19</a>\u001b[0m     X_train_scaled, \n\u001b[1;32m     <a href='vscode-notebook-cell://ssh-remote%2Bcip-workstation02/home/tbiegel/nico_files/drift_ml/src/drift_ml/datasets/bosch_cnc_machining/notebooks/stft_cnn_from_raw.ipynb#W5sdnNjb2RlLXJlbW90ZQ%3D%3D?line=19'>20</a>\u001b[0m     stft_base_loader\u001b[39m.\u001b[39;49my_train[:, np\u001b[39m.\u001b[39;49mnewaxis], \n\u001b[1;32m     <a href='vscode-notebook-cell://ssh-remote%2Bcip-workstation02/home/tbiegel/nico_files/drift_ml/src/drift_ml/datasets/bosch_cnc_machining/notebooks/stft_cnn_from_raw.ipynb#W5sdnNjb2RlLXJlbW90ZQ%3D%3D?line=20'>21</a>\u001b[0m     X_val_scaled, \n\u001b[1;32m     <a href='vscode-notebook-cell://ssh-remote%2Bcip-workstation02/home/tbiegel/nico_files/drift_ml/src/drift_ml/datasets/bosch_cnc_machining/notebooks/stft_cnn_from_raw.ipynb#W5sdnNjb2RlLXJlbW90ZQ%3D%3D?line=21'>22</a>\u001b[0m     stft_base_loader\u001b[39m.\u001b[39;49my_val[:, np\u001b[39m.\u001b[39;49mnewaxis], \n\u001b[1;32m     <a href='vscode-notebook-cell://ssh-remote%2Bcip-workstation02/home/tbiegel/nico_files/drift_ml/src/drift_ml/datasets/bosch_cnc_machining/notebooks/stft_cnn_from_raw.ipynb#W5sdnNjb2RlLXJlbW90ZQ%3D%3D?line=22'>23</a>\u001b[0m     lrate\u001b[39m=\u001b[39;49m\u001b[39m1e-2\u001b[39;49m,\n\u001b[1;32m     <a href='vscode-notebook-cell://ssh-remote%2Bcip-workstation02/home/tbiegel/nico_files/drift_ml/src/drift_ml/datasets/bosch_cnc_machining/notebooks/stft_cnn_from_raw.ipynb#W5sdnNjb2RlLXJlbW90ZQ%3D%3D?line=23'>24</a>\u001b[0m     epochs\u001b[39m=\u001b[39;49m\u001b[39m50\u001b[39;49m,\n\u001b[1;32m     <a href='vscode-notebook-cell://ssh-remote%2Bcip-workstation02/home/tbiegel/nico_files/drift_ml/src/drift_ml/datasets/bosch_cnc_machining/notebooks/stft_cnn_from_raw.ipynb#W5sdnNjb2RlLXJlbW90ZQ%3D%3D?line=24'>25</a>\u001b[0m     verbose\u001b[39m=\u001b[39;49m\u001b[39mTrue\u001b[39;49;00m\n\u001b[1;32m     <a href='vscode-notebook-cell://ssh-remote%2Bcip-workstation02/home/tbiegel/nico_files/drift_ml/src/drift_ml/datasets/bosch_cnc_machining/notebooks/stft_cnn_from_raw.ipynb#W5sdnNjb2RlLXJlbW90ZQ%3D%3D?line=25'>26</a>\u001b[0m )\n",
      "File \u001b[0;32m~/nico_files/drift_ml/src/drift_ml/datasets/bosch_cnc_machining/models/nnclassifier.py:110\u001b[0m, in \u001b[0;36mNNClassifier.fit\u001b[0;34m(self, train_X, train_y, val_X, val_y, batch_size, lrate, epochs, class_weighted_sampling, verbose, show_final_val_performance, return_self)\u001b[0m\n\u001b[1;32m    107\u001b[0m \u001b[39mself\u001b[39m\u001b[39m.\u001b[39mmodel\u001b[39m.\u001b[39mtrain()\n\u001b[1;32m    109\u001b[0m \u001b[39mfor\u001b[39;00m idx, (X, y) \u001b[39min\u001b[39;00m \u001b[39menumerate\u001b[39m(train_loader):\n\u001b[0;32m--> 110\u001b[0m     X, y \u001b[39m=\u001b[39m X\u001b[39m.\u001b[39;49mto(\u001b[39mself\u001b[39;49m\u001b[39m.\u001b[39;49mdevice), y\u001b[39m.\u001b[39mto(\u001b[39mself\u001b[39m\u001b[39m.\u001b[39mdevice)\n\u001b[1;32m    111\u001b[0m     sgd\u001b[39m.\u001b[39mzero_grad()\n\u001b[1;32m    112\u001b[0m     predict_y \u001b[39m=\u001b[39m \u001b[39mself\u001b[39m\u001b[39m.\u001b[39mmodel(X\u001b[39m.\u001b[39mfloat())\n",
      "\u001b[0;31mKeyboardInterrupt\u001b[0m: "
     ]
    }
   ],
   "source": [
    "import torch\n",
    "from torch import tensor\n",
    "from torchmetrics.classification import (\n",
    "    BinaryAUROC,\n",
    "    BinaryF1Score,\n",
    "    BinaryAveragePrecision)\n",
    "from drift_ml.datasets.bosch_cnc_machining.models.nnclassifier import NNClassifier\n",
    "from drift_ml.datasets.bosch_cnc_machining.models.lenet import LeNet\n",
    "\n",
    "torch.manual_seed(1)\n",
    "np.random.seed(0)\n",
    "\n",
    "auroc = BinaryAUROC()\n",
    "auprc = BinaryAveragePrecision()\n",
    "f1 = BinaryF1Score(threshold=0.5)\n",
    "\n",
    "model = NNClassifier(model=LeNet, device=\"cuda\")\n",
    "model.fit(\n",
    "    X_train_scaled, \n",
    "    stft_base_loader.y_train[:, np.newaxis], \n",
    "    X_val_scaled, \n",
    "    stft_base_loader.y_val[:, np.newaxis], \n",
    "    lrate=1e-2,\n",
    "    epochs=50,\n",
    "    verbose=True\n",
    ")"
   ]
  },
  {
   "cell_type": "code",
   "execution_count": null,
   "metadata": {},
   "outputs": [],
   "source": []
  }
 ],
 "metadata": {
  "kernelspec": {
   "display_name": "base",
   "language": "python",
   "name": "python3"
  },
  "language_info": {
   "codemirror_mode": {
    "name": "ipython",
    "version": 3
   },
   "file_extension": ".py",
   "mimetype": "text/x-python",
   "name": "python",
   "nbconvert_exporter": "python",
   "pygments_lexer": "ipython3",
   "version": "3.9.12"
  },
  "orig_nbformat": 4,
  "vscode": {
   "interpreter": {
    "hash": "4c52cee0ff20d7e84ea37bffd07e43c304debdae63fb6905a853edb9ff256302"
   }
  }
 },
 "nbformat": 4,
 "nbformat_minor": 2
}
