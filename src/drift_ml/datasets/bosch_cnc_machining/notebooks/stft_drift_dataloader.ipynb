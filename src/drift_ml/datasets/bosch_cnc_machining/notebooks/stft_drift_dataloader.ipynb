{
 "cells": [
  {
   "cell_type": "code",
   "execution_count": 1,
   "metadata": {},
   "outputs": [],
   "source": [
    "%load_ext autoreload\n",
    "%autoreload 2"
   ]
  },
  {
   "cell_type": "code",
   "execution_count": 2,
   "metadata": {},
   "outputs": [],
   "source": [
    "import h5py\n",
    "from pprint import pprint\n",
    "import numpy as np\n",
    "import logging \n",
    "logging.getLogger('matplotlib').setLevel(logging.WARNING)\n",
    "import matplotlib.pyplot as plt\n",
    "from scipy.special import entr\n",
    "from drift_ml.datasets.bosch_cnc_machining.utils.utils import augment_xyz_samples\n",
    "from drift_ml.datasets.bosch_cnc_machining.utils.dataloader import NPYBoschCNCDataLoader\n"
   ]
  },
  {
   "cell_type": "code",
   "execution_count": 3,
   "metadata": {},
   "outputs": [],
   "source": [
    "base_loader = NPYBoschCNCDataLoader(metadata_path=\"/home/tbiegel/nico_files/cms_2023_code/drift_ml/src/drift_ml/datasets/bosch_cnc_machining/extracted_features/metadata_ws4096.pkl\")\n",
    "base_loader.load_data(\n",
    "    sample_data_x_path=\"/home/tbiegel/nico_files/cms_2023_code/drift_ml/src/drift_ml/datasets/bosch_cnc_machining/extracted_features/npy/sample_data_x_raw_ws4096.npy\",\n",
    "    sample_data_y_path=\"/home/tbiegel/nico_files/cms_2023_code/drift_ml/src/drift_ml/datasets/bosch_cnc_machining/extracted_features/npy/sample_data_y_raw_ws4096.npy\"\n",
    "    )"
   ]
  },
  {
   "cell_type": "code",
   "execution_count": 4,
   "metadata": {},
   "outputs": [],
   "source": [
    "sudden_config = {\n",
    "    \"base_config\": {\n",
    "        \"train_size\": 0.2,\n",
    "        \"val_size\": 0.00,  # todo\n",
    "        \"test_size\": 0.8,\n",
    "        \"machines\": None,\n",
    "        \"processes\": None,\n",
    "        \"periods\": [\"Feb_2019\", \"Aug_2019\", \"Feb_2020\"],\n",
    "    },\n",
    "    \"drift_config\": [\n",
    "        {\n",
    "            \"length\": 25000,\n",
    "            \"type\": \"constant\",\n",
    "            \"only_test\": True,  # todo: False,\n",
    "            \"machines\": None,\n",
    "            \"processes\": None,\n",
    "            \"periods\": [\"Feb_2019\", \"Aug_2019\", \"Feb_2020\"],\n",
    "            \"transform_fn\": None,\n",
    "        },\n",
    "        {\n",
    "            \"length\": 25000,\n",
    "            \"type\": \"constant\",\n",
    "            \"only_test\": True,  # todo: False,\n",
    "            \"machines\": None,\n",
    "            \"processes\": None,\n",
    "            \"periods\": [\"Aug_2020\", \"Feb_2021\", \"Aug_2021\"],\n",
    "            \"transform_fn\": None# lambda x: augment_xyz_samples(x, pitch_deg=30),\n",
    "        },\n",
    "    ],\n",
    "}"
   ]
  },
  {
   "cell_type": "code",
   "execution_count": 5,
   "metadata": {},
   "outputs": [],
   "source": [
    "from drift_ml.datasets.bosch_cnc_machining.utils.dataloader import DriftDataLoader"
   ]
  },
  {
   "cell_type": "code",
   "execution_count": 6,
   "metadata": {},
   "outputs": [],
   "source": [
    "drift_dataloader = DriftDataLoader(baseloader=base_loader, config=sudden_config)"
   ]
  },
  {
   "cell_type": "code",
   "execution_count": 18,
   "metadata": {},
   "outputs": [],
   "source": [
    "x, y = drift_dataloader.access_base_samples(dataset=\"train\")"
   ]
  },
  {
   "cell_type": "code",
   "execution_count": 19,
   "metadata": {},
   "outputs": [
    {
     "data": {
      "text/plain": [
       "(5761,)"
      ]
     },
     "execution_count": 19,
     "metadata": {},
     "output_type": "execute_result"
    }
   ],
   "source": [
    "x.shape"
   ]
  },
  {
   "cell_type": "code",
   "execution_count": 42,
   "metadata": {},
   "outputs": [
    {
     "name": "stdout",
     "output_type": "stream",
     "text": [
      "taking 10000 samples from config 0, indices 0 to 10000\n",
      "skipping config 1\n",
      "(10000, 4096, 3)\n",
      "(10000,)\n",
      "taking 10000 samples from config 0, indices 10000 to 20000\n",
      "taking 0 samples from config 1, indices 0 to 0\n",
      "(10000, 4096, 3)\n",
      "(10000,)\n",
      "skipping config 0\n",
      "taking 10000 samples from config 1, indices 0 to 10000\n",
      "(10000, 4096, 3)\n",
      "(10000,)\n",
      "skipping config 0\n",
      "taking 10000 samples from config 1, indices 10000 to 20000\n",
      "(10000, 4096, 3)\n",
      "(10000,)\n",
      "skipping config 0\n",
      "skipping config 1\n"
     ]
    },
    {
     "ename": "ValueError",
     "evalue": "need at least one array to concatenate",
     "output_type": "error",
     "traceback": [
      "\u001b[0;31m---------------------------------------------------------------------------\u001b[0m",
      "\u001b[0;31mValueError\u001b[0m                                Traceback (most recent call last)",
      "\u001b[1;32m/home/tbiegel/nico_files/drift_ml/src/drift_ml/datasets/bosch_cnc_machining/notebooks/stft_drift_dataloader.ipynb Cell 6\u001b[0m in \u001b[0;36m<cell line: 3>\u001b[0;34m()\u001b[0m\n\u001b[1;32m      <a href='vscode-notebook-cell://ssh-remote%2Bcip-workstation02/home/tbiegel/nico_files/drift_ml/src/drift_ml/datasets/bosch_cnc_machining/notebooks/stft_drift_dataloader.ipynb#W5sdnNjb2RlLXJlbW90ZQ%3D%3D?line=1'>2</a>\u001b[0m chunksize \u001b[39m=\u001b[39m \u001b[39m10000\u001b[39m\n\u001b[1;32m      <a href='vscode-notebook-cell://ssh-remote%2Bcip-workstation02/home/tbiegel/nico_files/drift_ml/src/drift_ml/datasets/bosch_cnc_machining/notebooks/stft_drift_dataloader.ipynb#W5sdnNjb2RlLXJlbW90ZQ%3D%3D?line=2'>3</a>\u001b[0m \u001b[39mfor\u001b[39;00m i \u001b[39min\u001b[39;00m \u001b[39mrange\u001b[39m(\u001b[39m5\u001b[39m):\n\u001b[0;32m----> <a href='vscode-notebook-cell://ssh-remote%2Bcip-workstation02/home/tbiegel/nico_files/drift_ml/src/drift_ml/datasets/bosch_cnc_machining/notebooks/stft_drift_dataloader.ipynb#W5sdnNjb2RlLXJlbW90ZQ%3D%3D?line=3'>4</a>\u001b[0m     samples, labels \u001b[39m=\u001b[39m drift_dataloader\u001b[39m.\u001b[39;49maccess_test_drift_samples(index\u001b[39m=\u001b[39;49mi\u001b[39m*\u001b[39;49mchunksize, length\u001b[39m=\u001b[39;49mchunksize)\n\u001b[1;32m      <a href='vscode-notebook-cell://ssh-remote%2Bcip-workstation02/home/tbiegel/nico_files/drift_ml/src/drift_ml/datasets/bosch_cnc_machining/notebooks/stft_drift_dataloader.ipynb#W5sdnNjb2RlLXJlbW90ZQ%3D%3D?line=5'>6</a>\u001b[0m     \u001b[39mprint\u001b[39m(samples\u001b[39m.\u001b[39mshape)\n\u001b[1;32m      <a href='vscode-notebook-cell://ssh-remote%2Bcip-workstation02/home/tbiegel/nico_files/drift_ml/src/drift_ml/datasets/bosch_cnc_machining/notebooks/stft_drift_dataloader.ipynb#W5sdnNjb2RlLXJlbW90ZQ%3D%3D?line=6'>7</a>\u001b[0m     \u001b[39mprint\u001b[39m(labels\u001b[39m.\u001b[39mshape)\n",
      "File \u001b[0;32m~/nico_files/drift_ml/src/drift_ml/datasets/bosch_cnc_machining/utils/dataloader.py:336\u001b[0m, in \u001b[0;36mDriftDataLoader.access_test_drift_samples\u001b[0;34m(self, index, length)\u001b[0m\n\u001b[1;32m    333\u001b[0m     return_samples\u001b[39m.\u001b[39mappend(samples)\n\u001b[1;32m    334\u001b[0m     return_labels\u001b[39m.\u001b[39mappend(labels)\n\u001b[0;32m--> 336\u001b[0m return_samples \u001b[39m=\u001b[39m np\u001b[39m.\u001b[39;49mconcatenate(return_samples, axis\u001b[39m=\u001b[39;49m\u001b[39m0\u001b[39;49m)\n\u001b[1;32m    337\u001b[0m return_labels \u001b[39m=\u001b[39m np\u001b[39m.\u001b[39mconcatenate(return_labels, axis\u001b[39m=\u001b[39m\u001b[39m0\u001b[39m)\n\u001b[1;32m    338\u001b[0m \u001b[39mreturn\u001b[39;00m return_samples, return_labels\n",
      "File \u001b[0;32m<__array_function__ internals>:5\u001b[0m, in \u001b[0;36mconcatenate\u001b[0;34m(*args, **kwargs)\u001b[0m\n",
      "\u001b[0;31mValueError\u001b[0m: need at least one array to concatenate"
     ]
    }
   ],
   "source": [
    "\n",
    "chunksize = 10000\n",
    "for i in range(5):\n",
    "    samples, labels = drift_dataloader.access_test_drift_samples(index=i*chunksize, length=chunksize)\n",
    "    \n",
    "    print(samples.shape)\n",
    "    print(labels.shape)"
   ]
  },
  {
   "cell_type": "code",
   "execution_count": 23,
   "metadata": {},
   "outputs": [
    {
     "name": "stderr",
     "output_type": "stream",
     "text": [
      "Feature Extraction:  15%|█▍        | 943/6377 [00:09<00:10, 508.74it/s]"
     ]
    }
   ],
   "source": [
    "from tsfresh import feature_extraction\n",
    "drift_dataloader = DriftDataLoader(baseloader=base_loader, config=sudden_config)\n",
    "samples, labels = drift_dataloader.access_base_samples_tsfresh(featureset=feature_extraction.MinimalFCParameters(), dataset=\"test\")\n",
    "\n",
    "print(samples.shape)\n",
    "print(labels.shape)"
   ]
  },
  {
   "cell_type": "code",
   "execution_count": 8,
   "metadata": {},
   "outputs": [],
   "source": [
    "incremental_config = {\n",
    "    \"base_config\": {\n",
    "        \"train_size\": 0.3,\n",
    "        \"val_size\": 0.2,\n",
    "        \"test_size\": 0.5,\n",
    "        \"machines\": None,\n",
    "        \"processes\": None,\n",
    "        \"periods\": None,\n",
    "    },\n",
    "    \"drift_config\": [\n",
    "        {\n",
    "            \"start\": 0,\n",
    "            \"end\": 10000,\n",
    "            \"type\": \"linear\",\n",
    "            \"part_1\": {\n",
    "                \"only_test\": False,\n",
    "                \"machines\": None,\n",
    "                \"processes\": None,\n",
    "                \"periods\": None,\n",
    "                \"transform_fn\": None,\n",
    "            },\n",
    "            \"part_2\": {\n",
    "                \"only_test\": False,\n",
    "                \"machines\": None,\n",
    "                \"processes\": None,\n",
    "                \"periods\": None,\n",
    "                \"transform_fn\": lambda x: augment_xyz_samples(x, pitch_deg=30),\n",
    "            },\n",
    "        }\n",
    "    ],\n",
    "}\n"
   ]
  },
  {
   "cell_type": "code",
   "execution_count": 14,
   "metadata": {},
   "outputs": [
    {
     "name": "stdout",
     "output_type": "stream",
     "text": [
      "taking 10000 samples from config 0, indices 0 to 10000\n",
      "(10000, 3, 129, 33)\n"
     ]
    }
   ],
   "source": [
    "drift_dataloader = DriftDataLoader(baseloader=base_loader, config=incremental_config)\n",
    "samples = drift_dataloader.access_test_drift_samples_stft(index=0, length=10200)\n",
    "\n",
    "print(samples.shape)"
   ]
  },
  {
   "cell_type": "code",
   "execution_count": 38,
   "metadata": {},
   "outputs": [],
   "source": [
    "import pandas as pd\n",
    "from tsfresh import feature_extraction\n",
    "\n",
    "features = pd.read_pickle(\n",
    "    \"/home/tbiegel/nico_files/bosch_cnc_machining/features_and_data/all_top_30_features.pkl\"\n",
    ")\n",
    "feature_settings = feature_extraction.settings.from_columns(features)"
   ]
  },
  {
   "cell_type": "code",
   "execution_count": 19,
   "metadata": {},
   "outputs": [
    {
     "name": "stdout",
     "output_type": "stream",
     "text": [
      "taking 1000 samples from config 0, indices 0 to 1000\n"
     ]
    },
    {
     "name": "stderr",
     "output_type": "stream",
     "text": [
      "Feature Extraction: 100%|██████████| 300/300 [00:00<00:00, 404.89it/s]"
     ]
    },
    {
     "name": "stdout",
     "output_type": "stream",
     "text": [
      "(1000, 30)\n"
     ]
    },
    {
     "name": "stderr",
     "output_type": "stream",
     "text": [
      "\n"
     ]
    }
   ],
   "source": [
    "drift_dataloader = DriftDataLoader(baseloader=base_loader, config=incremental_config)\n",
    "samples = drift_dataloader.access_test_drift_samples_tsfresh(featureset=feature_extraction.MinimalFCParameters(), index=0, length=1000)\n",
    "print(samples.shape)"
   ]
  },
  {
   "cell_type": "code",
   "execution_count": null,
   "metadata": {},
   "outputs": [],
   "source": []
  }
 ],
 "metadata": {
  "kernelspec": {
   "display_name": "base",
   "language": "python",
   "name": "python3"
  },
  "language_info": {
   "codemirror_mode": {
    "name": "ipython",
    "version": 3
   },
   "file_extension": ".py",
   "mimetype": "text/x-python",
   "name": "python",
   "nbconvert_exporter": "python",
   "pygments_lexer": "ipython3",
   "version": "3.9.12 (main, Apr  5 2022, 06:56:58) \n[GCC 7.5.0]"
  },
  "orig_nbformat": 4,
  "vscode": {
   "interpreter": {
    "hash": "4c52cee0ff20d7e84ea37bffd07e43c304debdae63fb6905a853edb9ff256302"
   }
  }
 },
 "nbformat": 4,
 "nbformat_minor": 2
}
