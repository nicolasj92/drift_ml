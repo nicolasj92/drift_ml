{
 "cells": [
  {
   "cell_type": "code",
   "execution_count": 1,
   "metadata": {},
   "outputs": [],
   "source": [
    "%load_ext autoreload\n",
    "%autoreload 2"
   ]
  },
  {
   "cell_type": "code",
   "execution_count": 2,
   "metadata": {},
   "outputs": [],
   "source": [
    "import h5py\n",
    "from pprint import pprint\n",
    "import numpy as np\n",
    "import logging \n",
    "logging.getLogger('matplotlib').setLevel(logging.WARNING)\n",
    "import matplotlib.pyplot as plt\n",
    "from scipy.special import entr\n",
    "from drift_ml.datasets.bosch_cnc_machining.utils.utils import augment_xyz_samples\n",
    "from drift_ml.datasets.bosch_cnc_machining.utils.dataloader import NPYBoschCNCDataLoader\n"
   ]
  },
  {
   "cell_type": "code",
   "execution_count": 3,
   "metadata": {},
   "outputs": [],
   "source": [
    "base_loader = NPYBoschCNCDataLoader(metadata_path=\"/home/tbiegel/nico_files/drift_ml/src/drift_ml/datasets/bosch_cnc_machining/extracted_features/metadata_ws4096.pkl\")\n",
    "base_loader.load_data(\n",
    "    sample_data_x_path=\"/home/tbiegel/nico_files/drift_ml/src/drift_ml/datasets/bosch_cnc_machining/extracted_features/npy/sample_data_x_raw_ws4096.npy\",\n",
    "    sample_data_y_path=\"/home/tbiegel/nico_files/drift_ml/src/drift_ml/datasets/bosch_cnc_machining/extracted_features/npy/sample_data_y_raw_ws4096.npy\"\n",
    "    )"
   ]
  },
  {
   "cell_type": "code",
   "execution_count": 4,
   "metadata": {},
   "outputs": [],
   "source": [
    "sudden_config = {\n",
    "    \"base_config\": {\n",
    "        \"train_size\": 0.3,\n",
    "        \"val_size\": 0.2,\n",
    "        \"test_size\": 0.5,\n",
    "        \"machines\": None,\n",
    "        \"processes\": None,\n",
    "        \"periods\": None,\n",
    "    },\n",
    "    \"drift_config\": [\n",
    "        {\n",
    "            \"start\": 0,\n",
    "            \"end\": 9999,\n",
    "            \"type\": \"constant\",\n",
    "            \"only_test\": False,\n",
    "            \"machines\": None,\n",
    "            \"processes\": None,\n",
    "            \"periods\": None,\n",
    "            \"transform_fn\": None,\n",
    "        },\n",
    "        {\n",
    "            \"start\": 10000,\n",
    "            \"end\": 20000,\n",
    "            \"type\": \"constant\",\n",
    "            \"only_test\": False,\n",
    "            \"machines\": None,\n",
    "            \"processes\": None,\n",
    "            \"periods\": None,\n",
    "            \"transform_fn\": lambda x: augment_xyz_samples(x, pitch_deg=30),\n",
    "        },\n",
    "    ],\n",
    "}"
   ]
  },
  {
   "cell_type": "code",
   "execution_count": 7,
   "metadata": {},
   "outputs": [],
   "source": [
    "from drift_ml.datasets.bosch_cnc_machining.utils.dataloader import DriftDataLoader"
   ]
  },
  {
   "cell_type": "code",
   "execution_count": 9,
   "metadata": {},
   "outputs": [
    {
     "name": "stdout",
     "output_type": "stream",
     "text": [
      "taking 9000 samples from config 0\n",
      "indices 999 to 9999\n",
      "taking 1000 samples from config 1\n",
      "indices 0 to 1000\n",
      "(10000, 3, 129, 33)\n"
     ]
    }
   ],
   "source": [
    "drift_dataloader = DriftDataLoader(baseloader=base_loader, config=sudden_config, stft=True)\n",
    "samples = drift_dataloader.access_test_drift_samples(index=999, length=10000)\n",
    "\n",
    "print(samples.shape)"
   ]
  },
  {
   "cell_type": "code",
   "execution_count": 14,
   "metadata": {},
   "outputs": [],
   "source": [
    "incremental_config = {\n",
    "    \"base_config\": {\n",
    "        \"train_size\": 0.3,\n",
    "        \"val_size\": 0.2,\n",
    "        \"test_size\": 0.5,\n",
    "        \"machines\": None,\n",
    "        \"processes\": None,\n",
    "        \"periods\": None,\n",
    "    },\n",
    "    \"drift_config\": [\n",
    "        {\n",
    "            \"start\": 0,\n",
    "            \"end\": 10000,\n",
    "            \"type\": \"linear\",\n",
    "            \"part_1\": {\n",
    "                \"only_test\": False,\n",
    "                \"machines\": None,\n",
    "                \"processes\": None,\n",
    "                \"periods\": None,\n",
    "                \"transform_fn\": None,\n",
    "            },\n",
    "            \"part_2\": {\n",
    "                \"only_test\": False,\n",
    "                \"machines\": None,\n",
    "                \"processes\": None,\n",
    "                \"periods\": None,\n",
    "                \"transform_fn\": lambda x: augment_xyz_samples(x, pitch_deg=30),\n",
    "            },\n",
    "        }\n",
    "    ],\n",
    "}\n"
   ]
  },
  {
   "cell_type": "code",
   "execution_count": 17,
   "metadata": {},
   "outputs": [
    {
     "name": "stdout",
     "output_type": "stream",
     "text": [
      "taking 10000 samples from config 0\n",
      "indices 0 to 10000\n",
      "hi\n",
      "(10000, 3, 129, 33)\n"
     ]
    }
   ],
   "source": [
    "drift_dataloader = DriftDataLoader(baseloader=base_loader, config=incremental_config, stft=True)\n",
    "samples = drift_dataloader.access_test_drift_samples(index=0, length=10000)\n",
    "\n",
    "print(samples.shape)"
   ]
  },
  {
   "cell_type": "code",
   "execution_count": null,
   "metadata": {},
   "outputs": [],
   "source": []
  }
 ],
 "metadata": {
  "kernelspec": {
   "display_name": "base",
   "language": "python",
   "name": "python3"
  },
  "language_info": {
   "codemirror_mode": {
    "name": "ipython",
    "version": 3
   },
   "file_extension": ".py",
   "mimetype": "text/x-python",
   "name": "python",
   "nbconvert_exporter": "python",
   "pygments_lexer": "ipython3",
   "version": "3.9.12"
  },
  "orig_nbformat": 4,
  "vscode": {
   "interpreter": {
    "hash": "4c52cee0ff20d7e84ea37bffd07e43c304debdae63fb6905a853edb9ff256302"
   }
  }
 },
 "nbformat": 4,
 "nbformat_minor": 2
}
