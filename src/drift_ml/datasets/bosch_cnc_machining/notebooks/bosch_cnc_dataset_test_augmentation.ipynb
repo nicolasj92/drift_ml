{
 "cells": [
  {
   "cell_type": "code",
   "execution_count": 1,
   "metadata": {},
   "outputs": [],
   "source": [
    "%matplotlib ipympl\n",
    "\n",
    "import os\n",
    "import pandas as pd\n",
    "import numpy as np\n",
    "import matplotlib.pyplot as plt\n",
    "from matplotlib import animation\n",
    "from scipy.spatial.transform import Rotation\n",
    "from tsfresh import feature_extraction\n",
    "\n",
    "from drift_ml.datasets.bosch_cnc_machining.utils.dataloader import NPYBoschCNCDataLoader\n",
    "from drift_ml.datasets.bosch_cnc_machining.utils.utils import (\n",
    "    extract_tsfresh_features,\n",
    ")"
   ]
  },
  {
   "cell_type": "code",
   "execution_count": 2,
   "metadata": {},
   "outputs": [],
   "source": [
    "loader = NPYBoschCNCDataLoader(\n",
    "    metadata_path=\"/home/tbiegel/nico_files/bosch_cnc_machining/features_and_data/metadata_ws4096.pkl\"\n",
    ")\n",
    "loader.load_data(\n",
    "    \"/home/tbiegel/nico_files/bosch_cnc_machining/features_and_data/sample_data_x_raw_ws4096.npy\",\n",
    "    \"/home/tbiegel/nico_files/bosch_cnc_machining/features_and_data/sample_data_y_raw_ws4096.npy\",\n",
    ")\n"
   ]
  },
  {
   "cell_type": "code",
   "execution_count": 3,
   "metadata": {},
   "outputs": [],
   "source": [
    "def augment_xyz_samples(data, yaw_deg=0.0, pitch_deg=0.0, roll_deg=0.0):\n",
    "    rot_matrix = Rotation.from_euler(\n",
    "        \"zyx\", [yaw_deg, pitch_deg, roll_deg], degrees=True\n",
    "    ).as_matrix()\n",
    "    augmented_data = np.dot(data, rot_matrix.T)\n",
    "    return augmented_data"
   ]
  },
  {
   "cell_type": "code",
   "execution_count": 5,
   "metadata": {},
   "outputs": [
    {
     "name": "stderr",
     "output_type": "stream",
     "text": [
      "Exception ignored in: <function TransformNode.set_children.<locals>.<lambda> at 0x7faab85f6310>\n",
      "Traceback (most recent call last):\n",
      "  File \"/home/tbiegel/anaconda3/lib/python3.9/site-packages/matplotlib/transforms.py\", line 222, in <lambda>\n",
      "    self, lambda _, pop=child._parents.pop, k=id(self): pop(k))\n",
      "KeyboardInterrupt: \n"
     ]
    }
   ],
   "source": [
    "index = 0\n",
    "\n",
    "fig, ax = plt.subplots()\n",
    "ax.plot(loader.sample_data_X[index])\n",
    "\n",
    "\n",
    "def animate(frame_num):\n",
    "    ax.clear()\n",
    "    augmented_samples = augment_xyz_samples(loader.sample_data_X[index], roll_deg=frame_num, yaw_deg=frame_num, pitch_deg=frame_num)\n",
    "    ax.plot(augmented_samples)\n",
    "    plt.gca().set_ylim([-2000, 2000])\n",
    "    plt.gca().legend(['X', 'Y', 'Z'])\n",
    "\n",
    "anim = animation.FuncAnimation(fig, animate, frames=360, interval=5, repeat=True)\n",
    "# plt.show()\n",
    "anim.save(\"/home/tbiegel/nico_files/drift_ml/src/drift_ml/datasets/bosch_cnc_machining/notebooks/test.gif\", writer=animation.PillowWriter(fps=30))"
   ]
  },
  {
   "cell_type": "code",
   "execution_count": null,
   "metadata": {},
   "outputs": [],
   "source": []
  }
 ],
 "metadata": {
  "kernelspec": {
   "display_name": "Python 3.9.12 ('base')",
   "language": "python",
   "name": "python3"
  },
  "language_info": {
   "codemirror_mode": {
    "name": "ipython",
    "version": 3
   },
   "file_extension": ".py",
   "mimetype": "text/x-python",
   "name": "python",
   "nbconvert_exporter": "python",
   "pygments_lexer": "ipython3",
   "version": "3.9.12"
  },
  "orig_nbformat": 4,
  "vscode": {
   "interpreter": {
    "hash": "4c52cee0ff20d7e84ea37bffd07e43c304debdae63fb6905a853edb9ff256302"
   }
  }
 },
 "nbformat": 4,
 "nbformat_minor": 2
}
