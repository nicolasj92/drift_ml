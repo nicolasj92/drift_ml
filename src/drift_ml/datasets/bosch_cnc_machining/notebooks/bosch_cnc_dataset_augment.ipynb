{
 "cells": [
  {
   "cell_type": "code",
   "execution_count": 1,
   "metadata": {},
   "outputs": [],
   "source": [
    "%load_ext autoreload\n",
    "%autoreload 2"
   ]
  },
  {
   "cell_type": "code",
   "execution_count": 43,
   "metadata": {},
   "outputs": [],
   "source": [
    "import os\n",
    "\n",
    "import warnings\n",
    "warnings.simplefilter(action='ignore', category=FutureWarning)\n",
    "\n",
    "import pandas as pd\n",
    "import numpy as np\n",
    "import matplotlib.pyplot as plt\n",
    "from scipy.spatial.transform import Rotation\n",
    "from tsfresh import feature_extraction\n",
    "from sklearn.ensemble import RandomForestClassifier\n",
    "from sklearn.metrics import classification_report\n",
    "\n",
    "\n",
    "from drift_ml.datasets.bosch_cnc_machining.utils.dataloader import NPYBoschCNCDataLoader, SimpleTSFreshBoschCNCDataloader\n",
    "from drift_ml.datasets.bosch_cnc_machining.utils.utils import augment_xyz_samples, extract_tsfresh_features"
   ]
  },
  {
   "cell_type": "code",
   "execution_count": 5,
   "metadata": {},
   "outputs": [],
   "source": [
    "baseline_loader = SimpleTSFreshBoschCNCDataloader(\n",
    "    metadata_path=\"/home/tbiegel/nico_files/bosch_cnc_machining/features_and_data/metadata_ws4096.pkl\"\n",
    ")\n",
    "baseline_loader.load_data(\"/home/tbiegel/nico_files/bosch_cnc_machining/features_and_data/all_top_30_features.pkl\", \n",
    "\"/home/tbiegel/nico_files/bosch_cnc_machining/features_and_data/sample_data_y_raw_ws4096.npy\")"
   ]
  },
  {
   "cell_type": "code",
   "execution_count": 45,
   "metadata": {},
   "outputs": [],
   "source": [
    "baseline_loader.generate_datasets_by_size(train_size=.5,val_size=.1,test_size=.4)"
   ]
  },
  {
   "cell_type": "code",
   "execution_count": 46,
   "metadata": {},
   "outputs": [
    {
     "data": {
      "image/png": "[encoded data removed]",
      "text/plain": [
       "<Figure size 1080x288 with 6 Axes>"
      ]
     },
     "metadata": {
      "needs_background": "light"
     },
     "output_type": "display_data"
    }
   ],
   "source": [
    "baseline_loader.plot_stats()"
   ]
  },
  {
   "cell_type": "code",
   "execution_count": 47,
   "metadata": {},
   "outputs": [],
   "source": [
    "X_train = baseline_loader.sample_data_X.iloc[baseline_loader.train_sample_ids]\n",
    "y_train = baseline_loader.sample_data_y[baseline_loader.train_sample_ids]\n",
    "\n",
    "X_val = baseline_loader.sample_data_X.iloc[baseline_loader.val_sample_ids]\n",
    "y_val = baseline_loader.sample_data_y[baseline_loader.val_sample_ids]\n",
    "\n",
    "X_test = baseline_loader.sample_data_X.iloc[baseline_loader.test_sample_ids]\n",
    "y_test = baseline_loader.sample_data_y[baseline_loader.test_sample_ids]"
   ]
  },
  {
   "cell_type": "code",
   "execution_count": 48,
   "metadata": {},
   "outputs": [
    {
     "data": {
      "text/plain": [
       "RandomForestClassifier()"
      ]
     },
     "execution_count": 48,
     "metadata": {},
     "output_type": "execute_result"
    }
   ],
   "source": [
    "model = RandomForestClassifier()\n",
    "model.fit(X_train, y_train)"
   ]
  },
  {
   "cell_type": "code",
   "execution_count": 49,
   "metadata": {},
   "outputs": [
    {
     "name": "stdout",
     "output_type": "stream",
     "text": [
      "Training Set\n",
      "              precision    recall  f1-score   support\n",
      "\n",
      "          OK       1.00      1.00      1.00     20708\n",
      "         NOK       1.00      1.00      1.00       647\n",
      "\n",
      "    accuracy                           1.00     21355\n",
      "   macro avg       1.00      1.00      1.00     21355\n",
      "weighted avg       1.00      1.00      1.00     21355\n",
      "\n",
      "Validation Set\n",
      "              precision    recall  f1-score   support\n",
      "\n",
      "          OK       0.99      1.00      0.99      4198\n",
      "         NOK       1.00      0.64      0.78       156\n",
      "\n",
      "    accuracy                           0.99      4354\n",
      "   macro avg       0.99      0.82      0.89      4354\n",
      "weighted avg       0.99      0.99      0.99      4354\n",
      "\n",
      "Test Set\n",
      "              precision    recall  f1-score   support\n",
      "\n",
      "          OK       0.99      1.00      0.99     16737\n",
      "         NOK       0.98      0.56      0.72       532\n",
      "\n",
      "    accuracy                           0.99     17269\n",
      "   macro avg       0.98      0.78      0.85     17269\n",
      "weighted avg       0.99      0.99      0.98     17269\n",
      "\n"
     ]
    }
   ],
   "source": [
    "y_pred_train = model.predict(X_train)\n",
    "y_pred_val = model.predict(X_val)\n",
    "y_pred_test = model.predict(X_test)\n",
    "\n",
    "print(\"Training Set\")\n",
    "print(classification_report(y_train, y_pred_train, target_names=[\"OK\", \"NOK\"]))\n",
    "print(\"Validation Set\")\n",
    "print(classification_report(y_val, y_pred_val, target_names=[\"OK\", \"NOK\"]))\n",
    "print(\"Test Set\")\n",
    "print(classification_report(y_test, y_pred_test, target_names=[\"OK\", \"NOK\"]))"
   ]
  },
  {
   "cell_type": "code",
   "execution_count": 51,
   "metadata": {},
   "outputs": [
    {
     "name": "stdout",
     "output_type": "stream",
     "text": [
      "Test set results for 1.0 degrees shift in roll:\n",
      "              precision    recall  f1-score   support\n",
      "\n",
      "          OK       0.99      1.00      0.99     16737\n",
      "         NOK       0.95      0.58      0.72       532\n",
      "\n",
      "    accuracy                           0.99     17269\n",
      "   macro avg       0.97      0.79      0.86     17269\n",
      "weighted avg       0.99      0.99      0.98     17269\n",
      "\n",
      "Test set results for 3.0 degrees shift in roll:\n",
      "              precision    recall  f1-score   support\n",
      "\n",
      "          OK       0.99      1.00      0.99     16737\n",
      "         NOK       0.95      0.56      0.70       532\n",
      "\n",
      "    accuracy                           0.99     17269\n",
      "   macro avg       0.97      0.78      0.85     17269\n",
      "weighted avg       0.98      0.99      0.98     17269\n",
      "\n",
      "Test set results for 5.0 degrees shift in roll:\n",
      "              precision    recall  f1-score   support\n",
      "\n",
      "          OK       0.97      1.00      0.98     16737\n",
      "         NOK       0.00      0.00      0.00       532\n",
      "\n",
      "    accuracy                           0.97     17269\n",
      "   macro avg       0.48      0.50      0.49     17269\n",
      "weighted avg       0.94      0.97      0.95     17269\n",
      "\n",
      "Test set results for 7.0 degrees shift in roll:\n"
     ]
    },
    {
     "name": "stderr",
     "output_type": "stream",
     "text": [
      "/home/tbiegel/anaconda3/lib/python3.9/site-packages/sklearn/metrics/_classification.py:1318: UndefinedMetricWarning: Precision and F-score are ill-defined and being set to 0.0 in labels with no predicted samples. Use `zero_division` parameter to control this behavior.\n",
      "  _warn_prf(average, modifier, msg_start, len(result))\n",
      "/home/tbiegel/anaconda3/lib/python3.9/site-packages/sklearn/metrics/_classification.py:1318: UndefinedMetricWarning: Precision and F-score are ill-defined and being set to 0.0 in labels with no predicted samples. Use `zero_division` parameter to control this behavior.\n",
      "  _warn_prf(average, modifier, msg_start, len(result))\n",
      "/home/tbiegel/anaconda3/lib/python3.9/site-packages/sklearn/metrics/_classification.py:1318: UndefinedMetricWarning: Precision and F-score are ill-defined and being set to 0.0 in labels with no predicted samples. Use `zero_division` parameter to control this behavior.\n",
      "  _warn_prf(average, modifier, msg_start, len(result))\n",
      "/home/tbiegel/anaconda3/lib/python3.9/site-packages/sklearn/metrics/_classification.py:1318: UndefinedMetricWarning: Precision and F-score are ill-defined and being set to 0.0 in labels with no predicted samples. Use `zero_division` parameter to control this behavior.\n",
      "  _warn_prf(average, modifier, msg_start, len(result))\n",
      "/home/tbiegel/anaconda3/lib/python3.9/site-packages/sklearn/metrics/_classification.py:1318: UndefinedMetricWarning: Precision and F-score are ill-defined and being set to 0.0 in labels with no predicted samples. Use `zero_division` parameter to control this behavior.\n",
      "  _warn_prf(average, modifier, msg_start, len(result))\n",
      "/home/tbiegel/anaconda3/lib/python3.9/site-packages/sklearn/metrics/_classification.py:1318: UndefinedMetricWarning: Precision and F-score are ill-defined and being set to 0.0 in labels with no predicted samples. Use `zero_division` parameter to control this behavior.\n",
      "  _warn_prf(average, modifier, msg_start, len(result))\n"
     ]
    },
    {
     "name": "stdout",
     "output_type": "stream",
     "text": [
      "              precision    recall  f1-score   support\n",
      "\n",
      "          OK       0.97      1.00      0.98     16737\n",
      "         NOK       0.00      0.00      0.00       532\n",
      "\n",
      "    accuracy                           0.97     17269\n",
      "   macro avg       0.48      0.50      0.49     17269\n",
      "weighted avg       0.94      0.97      0.95     17269\n",
      "\n",
      "Test set results for 9.0 degrees shift in roll:\n",
      "              precision    recall  f1-score   support\n",
      "\n",
      "          OK       0.98      1.00      0.99     16737\n",
      "         NOK       0.97      0.49      0.65       532\n",
      "\n",
      "    accuracy                           0.98     17269\n",
      "   macro avg       0.98      0.74      0.82     17269\n",
      "weighted avg       0.98      0.98      0.98     17269\n",
      "\n",
      "Test set results for 11.0 degrees shift in roll:\n",
      "              precision    recall  f1-score   support\n",
      "\n",
      "          OK       0.98      1.00      0.99     16737\n",
      "         NOK       0.99      0.44      0.61       532\n",
      "\n",
      "    accuracy                           0.98     17269\n",
      "   macro avg       0.98      0.72      0.80     17269\n",
      "weighted avg       0.98      0.98      0.98     17269\n",
      "\n"
     ]
    }
   ],
   "source": [
    "augmented_features_basepath = \"/home/tbiegel/nico_files/drift_ml/src/drift_ml/datasets/bosch_cnc_machining/raw_data/augmented\"\n",
    "for axis in [\"roll\"]:#[\"yaw\", \"pitch\", \"roll\"]:\n",
    "    for angle in np.arange(1.0, 13.0, 2.0):\n",
    "        augmented_features_filename = f\"tsfresh_top30_{axis}_shift_{angle}_deg.pkl\"\n",
    "        augmented_features_filepath = os.path.join(augmented_features_basepath, augmented_features_filename)\n",
    "        \n",
    "        augmented_loader = SimpleTSFreshBoschCNCDataloader(\n",
    "            metadata_path=\"/home/tbiegel/nico_files/bosch_cnc_machining/features_and_data/metadata_ws4096.pkl\"\n",
    "        )\n",
    "        augmented_loader.load_data(augmented_features_filepath, \n",
    "        \"/home/tbiegel/nico_files/bosch_cnc_machining/features_and_data/sample_data_y_raw_ws4096.npy\")\n",
    "\n",
    "        print(f\"Test set results for {angle} degrees shift in {axis}:\")\n",
    "        X_test = augmented_loader.sample_data_X.iloc[baseline_loader.test_sample_ids]\n",
    "        y_test = augmented_loader.sample_data_y[baseline_loader.test_sample_ids]\n",
    "        y_pred_test = model.predict(X_test)\n",
    "        print(classification_report(y_test, y_pred_test, target_names=[\"OK\", \"NOK\"]))"
   ]
  },
  {
   "cell_type": "code",
   "execution_count": null,
   "metadata": {},
   "outputs": [],
   "source": []
  }
 ],
 "metadata": {
  "kernelspec": {
   "display_name": "Python 3.9.12 ('base')",
   "language": "python",
   "name": "python3"
  },
  "language_info": {
   "codemirror_mode": {
    "name": "ipython",
    "version": 3
   },
   "file_extension": ".py",
   "mimetype": "text/x-python",
   "name": "python",
   "nbconvert_exporter": "python",
   "pygments_lexer": "ipython3",
   "version": "3.9.12"
  },
  "orig_nbformat": 4,
  "vscode": {
   "interpreter": {
    "hash": "4c52cee0ff20d7e84ea37bffd07e43c304debdae63fb6905a853edb9ff256302"
   }
  }
 },
 "nbformat": 4,
 "nbformat_minor": 2
}
