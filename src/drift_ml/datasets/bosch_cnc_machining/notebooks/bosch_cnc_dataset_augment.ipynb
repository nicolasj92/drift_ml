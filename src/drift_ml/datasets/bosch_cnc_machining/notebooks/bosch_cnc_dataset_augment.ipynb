{
 "cells": [
  {
   "cell_type": "code",
   "execution_count": 1,
   "metadata": {},
   "outputs": [],
   "source": [
    "%load_ext autoreload\n",
    "%autoreload 2"
   ]
  },
  {
   "cell_type": "code",
   "execution_count": 2,
   "metadata": {},
   "outputs": [],
   "source": [
    "import os\n",
    "\n",
    "import warnings\n",
    "warnings.simplefilter(action='ignore', category=FutureWarning)\n",
    "\n",
    "import pandas as pd\n",
    "import numpy as np\n",
    "import matplotlib.pyplot as plt\n",
    "from scipy.spatial.transform import Rotation\n",
    "from tsfresh import feature_extraction\n",
    "from sklearn.ensemble import RandomForestClassifier\n",
    "from sklearn.metrics import classification_report, f1_score, matthews_corrcoef, precision_score, recall_score\n",
    "\n",
    "\n",
    "from drift_ml.datasets.bosch_cnc_machining.utils.dataloader import NPYBoschCNCDataLoader, SimpleTSFreshBoschCNCDataloader\n",
    "from drift_ml.datasets.bosch_cnc_machining.utils.utils import augment_xyz_samples, extract_tsfresh_features"
   ]
  },
  {
   "cell_type": "code",
   "execution_count": 3,
   "metadata": {},
   "outputs": [],
   "source": [
    "baseline_loader = SimpleTSFreshBoschCNCDataloader(\n",
    "    metadata_path=\"/home/tbiegel/nico_files/bosch_cnc_machining/features_and_data/metadata_ws4096.pkl\"\n",
    ")\n",
    "baseline_loader.load_data(\"/home/tbiegel/nico_files/bosch_cnc_machining/features_and_data/all_top_30_features.pkl\", \n",
    "\"/home/tbiegel/nico_files/bosch_cnc_machining/features_and_data/sample_data_y_raw_ws4096.npy\")"
   ]
  },
  {
   "cell_type": "code",
   "execution_count": 4,
   "metadata": {},
   "outputs": [],
   "source": [
    "baseline_loader.generate_datasets_by_size(train_size=.4,val_size=.1,test_size=.5, processes=[\"OP07\"])"
   ]
  },
  {
   "cell_type": "code",
   "execution_count": 5,
   "metadata": {},
   "outputs": [
    {
     "data": {
      "image/png": "[encoded data removed]",
      "text/plain": [
       "<Figure size 1080x288 with 6 Axes>"
      ]
     },
     "metadata": {
      "needs_background": "light"
     },
     "output_type": "display_data"
    }
   ],
   "source": [
    "baseline_loader.plot_stats()"
   ]
  },
  {
   "cell_type": "code",
   "execution_count": 6,
   "metadata": {},
   "outputs": [],
   "source": [
    "X_train = baseline_loader.sample_data_X.iloc[baseline_loader.train_sample_ids].to_numpy()\n",
    "y_train = baseline_loader.sample_data_y[baseline_loader.train_sample_ids]\n",
    "\n",
    "X_val = baseline_loader.sample_data_X.iloc[baseline_loader.val_sample_ids].to_numpy()\n",
    "y_val = baseline_loader.sample_data_y[baseline_loader.val_sample_ids]\n",
    "\n",
    "X_test = baseline_loader.sample_data_X.iloc[baseline_loader.test_sample_ids].to_numpy()\n",
    "y_test = baseline_loader.sample_data_y[baseline_loader.test_sample_ids]"
   ]
  },
  {
   "cell_type": "code",
   "execution_count": 7,
   "metadata": {},
   "outputs": [
    {
     "data": {
      "text/plain": [
       "RandomForestClassifier()"
      ]
     },
     "execution_count": 7,
     "metadata": {},
     "output_type": "execute_result"
    }
   ],
   "source": [
    "model = RandomForestClassifier()\n",
    "model.fit(X_train, y_train)"
   ]
  },
  {
   "cell_type": "code",
   "execution_count": 8,
   "metadata": {},
   "outputs": [
    {
     "name": "stdout",
     "output_type": "stream",
     "text": [
      "Training Set\n",
      "              precision    recall  f1-score   support\n",
      "\n",
      "          OK       1.00      1.00      1.00       702\n",
      "         NOK       1.00      1.00      1.00        33\n",
      "\n",
      "    accuracy                           1.00       735\n",
      "   macro avg       1.00      1.00      1.00       735\n",
      "weighted avg       1.00      1.00      1.00       735\n",
      "\n",
      "Validation Set\n",
      "              precision    recall  f1-score   support\n",
      "\n",
      "          OK       1.00      1.00      1.00       177\n",
      "         NOK       1.00      1.00      1.00         9\n",
      "\n",
      "    accuracy                           1.00       186\n",
      "   macro avg       1.00      1.00      1.00       186\n",
      "weighted avg       1.00      1.00      1.00       186\n",
      "\n",
      "Test Set\n",
      "              precision    recall  f1-score   support\n",
      "\n",
      "          OK       1.00      1.00      1.00       878\n",
      "         NOK       1.00      0.98      0.99        45\n",
      "\n",
      "    accuracy                           1.00       923\n",
      "   macro avg       1.00      0.99      0.99       923\n",
      "weighted avg       1.00      1.00      1.00       923\n",
      "\n"
     ]
    }
   ],
   "source": [
    "y_pred_train = model.predict(X_train)\n",
    "y_pred_val = model.predict(X_val)\n",
    "y_pred_test = model.predict(X_test)\n",
    "\n",
    "print(\"Training Set\")\n",
    "print(classification_report(y_train, y_pred_train, target_names=[\"OK\", \"NOK\"]))\n",
    "print(\"Validation Set\")\n",
    "print(classification_report(y_val, y_pred_val, target_names=[\"OK\", \"NOK\"]))\n",
    "print(\"Test Set\")\n",
    "print(classification_report(y_test, y_pred_test, target_names=[\"OK\", \"NOK\"]))"
   ]
  },
  {
   "cell_type": "code",
   "execution_count": 9,
   "metadata": {},
   "outputs": [],
   "source": [
    "angles = []\n",
    "f1_scores = []\n",
    "confidences = []\n",
    "\n",
    "augmented_features_basepath = \"/home/tbiegel/nico_files/drift_ml/src/drift_ml/datasets/bosch_cnc_machining/raw_data/augmented\"\n",
    "for angle in np.arange(0.0, 60.0, 5.0):\n",
    "    angle_f1_scores = []\n",
    "    angle_confidences = []\n",
    "    for axis in [\"yaw\", \"pitch\", \"roll\", \"all\"]:\n",
    "        if angle == 0.0:\n",
    "            X_test = baseline_loader.sample_data_X.iloc[baseline_loader.test_sample_ids].to_numpy()\n",
    "            y_test = baseline_loader.sample_data_y[baseline_loader.test_sample_ids]\n",
    "            y_pred_test = model.predict(X_test)\n",
    "            avg_conf = np.mean(np.max(model.predict_proba(X_test), axis=-1))\n",
    "        else:\n",
    "            augmented_features_filename = f\"tsfresh_top30_{axis}_shift_{angle}_deg.pkl\"\n",
    "            augmented_features_filepath = os.path.join(augmented_features_basepath, augmented_features_filename)\n",
    "            \n",
    "            augmented_loader = SimpleTSFreshBoschCNCDataloader(\n",
    "                metadata_path=\"/home/tbiegel/nico_files/bosch_cnc_machining/features_and_data/metadata_ws4096.pkl\"\n",
    "            )\n",
    "            augmented_loader.load_data(augmented_features_filepath, \n",
    "            \"/home/tbiegel/nico_files/bosch_cnc_machining/features_and_data/sample_data_y_raw_ws4096.npy\")\n",
    "\n",
    "            X_test = augmented_loader.sample_data_X.iloc[baseline_loader.test_sample_ids][baseline_loader.sample_data_X.columns].to_numpy()\n",
    "            y_test = augmented_loader.sample_data_y[baseline_loader.test_sample_ids]\n",
    "            y_pred_test = model.predict(X_test)\n",
    "            avg_conf = np.mean(np.max(model.predict_proba(X_test), axis=-1))\n",
    "            # print(f\"Test set results for {angle} degrees shift in {axis}:\")\n",
    "            # print(classification_report(y_test, y_pred_test, target_names=[\"OK\", \"NOK\"]))\n",
    "        \n",
    "        angle_f1_scores.append(f1_score(y_test, y_pred_test))\n",
    "        angle_confidences.append(avg_conf)\n",
    "\n",
    "    angles.append(angle)\n",
    "    f1_scores.append(angle_f1_scores)\n",
    "    confidences.append(angle_confidences)"
   ]
  },
  {
   "cell_type": "code",
   "execution_count": 11,
   "metadata": {},
   "outputs": [
    {
     "data": {
      "image/png": "[encoded data removed]",
      "text/plain": [
       "<Figure size 432x288 with 1 Axes>"
      ]
     },
     "metadata": {
      "needs_background": "light"
     },
     "output_type": "display_data"
    }
   ],
   "source": [
    "plt.plot(angles, np.array(f1_scores), label=[\"Yaw\", \"Pitch\", \"Roll\", \"All\"])\n",
    "plt.xlim([0, 60])\n",
    "plt.ylim([0.4, 1.0])\n",
    "plt.xlabel(\"Shift in degrees\")\n",
    "plt.ylabel(\"F1 Score\")\n",
    "plt.legend()\n",
    "plt.show()"
   ]
  },
  {
   "cell_type": "code",
   "execution_count": null,
   "metadata": {},
   "outputs": [],
   "source": []
  }
 ],
 "metadata": {
  "kernelspec": {
   "display_name": "Python 3.9.12 ('base')",
   "language": "python",
   "name": "python3"
  },
  "language_info": {
   "codemirror_mode": {
    "name": "ipython",
    "version": 3
   },
   "file_extension": ".py",
   "mimetype": "text/x-python",
   "name": "python",
   "nbconvert_exporter": "python",
   "pygments_lexer": "ipython3",
   "version": "3.9.12"
  },
  "orig_nbformat": 4,
  "vscode": {
   "interpreter": {
    "hash": "4c52cee0ff20d7e84ea37bffd07e43c304debdae63fb6905a853edb9ff256302"
   }
  }
 },
 "nbformat": 4,
 "nbformat_minor": 2
}
